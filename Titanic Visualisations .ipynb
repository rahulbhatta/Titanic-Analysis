{
 "cells": [
  {
   "cell_type": "code",
   "execution_count": 1,
   "metadata": {},
   "outputs": [],
   "source": [
    "import numpy as np\n",
    "import pandas as pd\n",
    "from pandas import Series, DataFrame\n",
    "import matplotlib.pyplot as plt\n",
    "import seaborn as sns\n",
    "\n",
    "survival = pd.read_csv(\"gender_submission.csv\")\n",
    "test = pd.read_csv(\"test.csv\")\n",
    "train = pd.read_csv(\"train.csv\")"
   ]
  },
  {
   "cell_type": "markdown",
   "metadata": {},
   "source": [
    "Take a look at the data and its types"
   ]
  },
  {
   "cell_type": "code",
   "execution_count": 2,
   "metadata": {},
   "outputs": [
    {
     "data": {
      "text/html": [
       "<div>\n",
       "<style scoped>\n",
       "    .dataframe tbody tr th:only-of-type {\n",
       "        vertical-align: middle;\n",
       "    }\n",
       "\n",
       "    .dataframe tbody tr th {\n",
       "        vertical-align: top;\n",
       "    }\n",
       "\n",
       "    .dataframe thead th {\n",
       "        text-align: right;\n",
       "    }\n",
       "</style>\n",
       "<table border=\"1\" class=\"dataframe\">\n",
       "  <thead>\n",
       "    <tr style=\"text-align: right;\">\n",
       "      <th></th>\n",
       "      <th>PassengerId</th>\n",
       "      <th>Survived</th>\n",
       "      <th>Pclass</th>\n",
       "      <th>Name</th>\n",
       "      <th>Sex</th>\n",
       "      <th>Age</th>\n",
       "      <th>SibSp</th>\n",
       "      <th>Parch</th>\n",
       "      <th>Ticket</th>\n",
       "      <th>Fare</th>\n",
       "      <th>Cabin</th>\n",
       "      <th>Embarked</th>\n",
       "    </tr>\n",
       "  </thead>\n",
       "  <tbody>\n",
       "    <tr>\n",
       "      <th>0</th>\n",
       "      <td>1</td>\n",
       "      <td>0</td>\n",
       "      <td>3</td>\n",
       "      <td>Braund, Mr. Owen Harris</td>\n",
       "      <td>male</td>\n",
       "      <td>22.0</td>\n",
       "      <td>1</td>\n",
       "      <td>0</td>\n",
       "      <td>A/5 21171</td>\n",
       "      <td>7.2500</td>\n",
       "      <td>NaN</td>\n",
       "      <td>S</td>\n",
       "    </tr>\n",
       "    <tr>\n",
       "      <th>1</th>\n",
       "      <td>2</td>\n",
       "      <td>1</td>\n",
       "      <td>1</td>\n",
       "      <td>Cumings, Mrs. John Bradley (Florence Briggs Th...</td>\n",
       "      <td>female</td>\n",
       "      <td>38.0</td>\n",
       "      <td>1</td>\n",
       "      <td>0</td>\n",
       "      <td>PC 17599</td>\n",
       "      <td>71.2833</td>\n",
       "      <td>C85</td>\n",
       "      <td>C</td>\n",
       "    </tr>\n",
       "    <tr>\n",
       "      <th>2</th>\n",
       "      <td>3</td>\n",
       "      <td>1</td>\n",
       "      <td>3</td>\n",
       "      <td>Heikkinen, Miss. Laina</td>\n",
       "      <td>female</td>\n",
       "      <td>26.0</td>\n",
       "      <td>0</td>\n",
       "      <td>0</td>\n",
       "      <td>STON/O2. 3101282</td>\n",
       "      <td>7.9250</td>\n",
       "      <td>NaN</td>\n",
       "      <td>S</td>\n",
       "    </tr>\n",
       "    <tr>\n",
       "      <th>3</th>\n",
       "      <td>4</td>\n",
       "      <td>1</td>\n",
       "      <td>1</td>\n",
       "      <td>Futrelle, Mrs. Jacques Heath (Lily May Peel)</td>\n",
       "      <td>female</td>\n",
       "      <td>35.0</td>\n",
       "      <td>1</td>\n",
       "      <td>0</td>\n",
       "      <td>113803</td>\n",
       "      <td>53.1000</td>\n",
       "      <td>C123</td>\n",
       "      <td>S</td>\n",
       "    </tr>\n",
       "    <tr>\n",
       "      <th>4</th>\n",
       "      <td>5</td>\n",
       "      <td>0</td>\n",
       "      <td>3</td>\n",
       "      <td>Allen, Mr. William Henry</td>\n",
       "      <td>male</td>\n",
       "      <td>35.0</td>\n",
       "      <td>0</td>\n",
       "      <td>0</td>\n",
       "      <td>373450</td>\n",
       "      <td>8.0500</td>\n",
       "      <td>NaN</td>\n",
       "      <td>S</td>\n",
       "    </tr>\n",
       "    <tr>\n",
       "      <th>5</th>\n",
       "      <td>6</td>\n",
       "      <td>0</td>\n",
       "      <td>3</td>\n",
       "      <td>Moran, Mr. James</td>\n",
       "      <td>male</td>\n",
       "      <td>NaN</td>\n",
       "      <td>0</td>\n",
       "      <td>0</td>\n",
       "      <td>330877</td>\n",
       "      <td>8.4583</td>\n",
       "      <td>NaN</td>\n",
       "      <td>Q</td>\n",
       "    </tr>\n",
       "    <tr>\n",
       "      <th>6</th>\n",
       "      <td>7</td>\n",
       "      <td>0</td>\n",
       "      <td>1</td>\n",
       "      <td>McCarthy, Mr. Timothy J</td>\n",
       "      <td>male</td>\n",
       "      <td>54.0</td>\n",
       "      <td>0</td>\n",
       "      <td>0</td>\n",
       "      <td>17463</td>\n",
       "      <td>51.8625</td>\n",
       "      <td>E46</td>\n",
       "      <td>S</td>\n",
       "    </tr>\n",
       "    <tr>\n",
       "      <th>7</th>\n",
       "      <td>8</td>\n",
       "      <td>0</td>\n",
       "      <td>3</td>\n",
       "      <td>Palsson, Master. Gosta Leonard</td>\n",
       "      <td>male</td>\n",
       "      <td>2.0</td>\n",
       "      <td>3</td>\n",
       "      <td>1</td>\n",
       "      <td>349909</td>\n",
       "      <td>21.0750</td>\n",
       "      <td>NaN</td>\n",
       "      <td>S</td>\n",
       "    </tr>\n",
       "    <tr>\n",
       "      <th>8</th>\n",
       "      <td>9</td>\n",
       "      <td>1</td>\n",
       "      <td>3</td>\n",
       "      <td>Johnson, Mrs. Oscar W (Elisabeth Vilhelmina Berg)</td>\n",
       "      <td>female</td>\n",
       "      <td>27.0</td>\n",
       "      <td>0</td>\n",
       "      <td>2</td>\n",
       "      <td>347742</td>\n",
       "      <td>11.1333</td>\n",
       "      <td>NaN</td>\n",
       "      <td>S</td>\n",
       "    </tr>\n",
       "    <tr>\n",
       "      <th>9</th>\n",
       "      <td>10</td>\n",
       "      <td>1</td>\n",
       "      <td>2</td>\n",
       "      <td>Nasser, Mrs. Nicholas (Adele Achem)</td>\n",
       "      <td>female</td>\n",
       "      <td>14.0</td>\n",
       "      <td>1</td>\n",
       "      <td>0</td>\n",
       "      <td>237736</td>\n",
       "      <td>30.0708</td>\n",
       "      <td>NaN</td>\n",
       "      <td>C</td>\n",
       "    </tr>\n",
       "  </tbody>\n",
       "</table>\n",
       "</div>"
      ],
      "text/plain": [
       "   PassengerId  Survived  Pclass  \\\n",
       "0            1         0       3   \n",
       "1            2         1       1   \n",
       "2            3         1       3   \n",
       "3            4         1       1   \n",
       "4            5         0       3   \n",
       "5            6         0       3   \n",
       "6            7         0       1   \n",
       "7            8         0       3   \n",
       "8            9         1       3   \n",
       "9           10         1       2   \n",
       "\n",
       "                                                Name     Sex   Age  SibSp  \\\n",
       "0                            Braund, Mr. Owen Harris    male  22.0      1   \n",
       "1  Cumings, Mrs. John Bradley (Florence Briggs Th...  female  38.0      1   \n",
       "2                             Heikkinen, Miss. Laina  female  26.0      0   \n",
       "3       Futrelle, Mrs. Jacques Heath (Lily May Peel)  female  35.0      1   \n",
       "4                           Allen, Mr. William Henry    male  35.0      0   \n",
       "5                                   Moran, Mr. James    male   NaN      0   \n",
       "6                            McCarthy, Mr. Timothy J    male  54.0      0   \n",
       "7                     Palsson, Master. Gosta Leonard    male   2.0      3   \n",
       "8  Johnson, Mrs. Oscar W (Elisabeth Vilhelmina Berg)  female  27.0      0   \n",
       "9                Nasser, Mrs. Nicholas (Adele Achem)  female  14.0      1   \n",
       "\n",
       "   Parch            Ticket     Fare Cabin Embarked  \n",
       "0      0         A/5 21171   7.2500   NaN        S  \n",
       "1      0          PC 17599  71.2833   C85        C  \n",
       "2      0  STON/O2. 3101282   7.9250   NaN        S  \n",
       "3      0            113803  53.1000  C123        S  \n",
       "4      0            373450   8.0500   NaN        S  \n",
       "5      0            330877   8.4583   NaN        Q  \n",
       "6      0             17463  51.8625   E46        S  \n",
       "7      1            349909  21.0750   NaN        S  \n",
       "8      2            347742  11.1333   NaN        S  \n",
       "9      0            237736  30.0708   NaN        C  "
      ]
     },
     "execution_count": 2,
     "metadata": {},
     "output_type": "execute_result"
    }
   ],
   "source": [
    "train.head(10)"
   ]
  },
  {
   "cell_type": "markdown",
   "metadata": {},
   "source": [
    "View the statistics"
   ]
  },
  {
   "cell_type": "code",
   "execution_count": 3,
   "metadata": {},
   "outputs": [
    {
     "data": {
      "text/html": [
       "<div>\n",
       "<style scoped>\n",
       "    .dataframe tbody tr th:only-of-type {\n",
       "        vertical-align: middle;\n",
       "    }\n",
       "\n",
       "    .dataframe tbody tr th {\n",
       "        vertical-align: top;\n",
       "    }\n",
       "\n",
       "    .dataframe thead th {\n",
       "        text-align: right;\n",
       "    }\n",
       "</style>\n",
       "<table border=\"1\" class=\"dataframe\">\n",
       "  <thead>\n",
       "    <tr style=\"text-align: right;\">\n",
       "      <th></th>\n",
       "      <th>PassengerId</th>\n",
       "      <th>Survived</th>\n",
       "      <th>Pclass</th>\n",
       "      <th>Age</th>\n",
       "      <th>SibSp</th>\n",
       "      <th>Parch</th>\n",
       "      <th>Fare</th>\n",
       "    </tr>\n",
       "  </thead>\n",
       "  <tbody>\n",
       "    <tr>\n",
       "      <th>count</th>\n",
       "      <td>891.000000</td>\n",
       "      <td>891.000000</td>\n",
       "      <td>891.000000</td>\n",
       "      <td>714.000000</td>\n",
       "      <td>891.000000</td>\n",
       "      <td>891.000000</td>\n",
       "      <td>891.000000</td>\n",
       "    </tr>\n",
       "    <tr>\n",
       "      <th>mean</th>\n",
       "      <td>446.000000</td>\n",
       "      <td>0.383838</td>\n",
       "      <td>2.308642</td>\n",
       "      <td>29.699118</td>\n",
       "      <td>0.523008</td>\n",
       "      <td>0.381594</td>\n",
       "      <td>32.204208</td>\n",
       "    </tr>\n",
       "    <tr>\n",
       "      <th>std</th>\n",
       "      <td>257.353842</td>\n",
       "      <td>0.486592</td>\n",
       "      <td>0.836071</td>\n",
       "      <td>14.526497</td>\n",
       "      <td>1.102743</td>\n",
       "      <td>0.806057</td>\n",
       "      <td>49.693429</td>\n",
       "    </tr>\n",
       "    <tr>\n",
       "      <th>min</th>\n",
       "      <td>1.000000</td>\n",
       "      <td>0.000000</td>\n",
       "      <td>1.000000</td>\n",
       "      <td>0.420000</td>\n",
       "      <td>0.000000</td>\n",
       "      <td>0.000000</td>\n",
       "      <td>0.000000</td>\n",
       "    </tr>\n",
       "    <tr>\n",
       "      <th>25%</th>\n",
       "      <td>223.500000</td>\n",
       "      <td>0.000000</td>\n",
       "      <td>2.000000</td>\n",
       "      <td>20.125000</td>\n",
       "      <td>0.000000</td>\n",
       "      <td>0.000000</td>\n",
       "      <td>7.910400</td>\n",
       "    </tr>\n",
       "    <tr>\n",
       "      <th>50%</th>\n",
       "      <td>446.000000</td>\n",
       "      <td>0.000000</td>\n",
       "      <td>3.000000</td>\n",
       "      <td>28.000000</td>\n",
       "      <td>0.000000</td>\n",
       "      <td>0.000000</td>\n",
       "      <td>14.454200</td>\n",
       "    </tr>\n",
       "    <tr>\n",
       "      <th>75%</th>\n",
       "      <td>668.500000</td>\n",
       "      <td>1.000000</td>\n",
       "      <td>3.000000</td>\n",
       "      <td>38.000000</td>\n",
       "      <td>1.000000</td>\n",
       "      <td>0.000000</td>\n",
       "      <td>31.000000</td>\n",
       "    </tr>\n",
       "    <tr>\n",
       "      <th>max</th>\n",
       "      <td>891.000000</td>\n",
       "      <td>1.000000</td>\n",
       "      <td>3.000000</td>\n",
       "      <td>80.000000</td>\n",
       "      <td>8.000000</td>\n",
       "      <td>6.000000</td>\n",
       "      <td>512.329200</td>\n",
       "    </tr>\n",
       "  </tbody>\n",
       "</table>\n",
       "</div>"
      ],
      "text/plain": [
       "       PassengerId    Survived      Pclass         Age       SibSp  \\\n",
       "count   891.000000  891.000000  891.000000  714.000000  891.000000   \n",
       "mean    446.000000    0.383838    2.308642   29.699118    0.523008   \n",
       "std     257.353842    0.486592    0.836071   14.526497    1.102743   \n",
       "min       1.000000    0.000000    1.000000    0.420000    0.000000   \n",
       "25%     223.500000    0.000000    2.000000   20.125000    0.000000   \n",
       "50%     446.000000    0.000000    3.000000   28.000000    0.000000   \n",
       "75%     668.500000    1.000000    3.000000   38.000000    1.000000   \n",
       "max     891.000000    1.000000    3.000000   80.000000    8.000000   \n",
       "\n",
       "            Parch        Fare  \n",
       "count  891.000000  891.000000  \n",
       "mean     0.381594   32.204208  \n",
       "std      0.806057   49.693429  \n",
       "min      0.000000    0.000000  \n",
       "25%      0.000000    7.910400  \n",
       "50%      0.000000   14.454200  \n",
       "75%      0.000000   31.000000  \n",
       "max      6.000000  512.329200  "
      ]
     },
     "execution_count": 3,
     "metadata": {},
     "output_type": "execute_result"
    }
   ],
   "source": [
    "train.describe()"
   ]
  },
  {
   "cell_type": "markdown",
   "metadata": {},
   "source": [
    "How many survived?"
   ]
  },
  {
   "cell_type": "code",
   "execution_count": 4,
   "metadata": {},
   "outputs": [
    {
     "data": {
      "image/png": "[encoded data removed]",
      "text/plain": [
       "<Figure size 432x288 with 1 Axes>"
      ]
     },
     "metadata": {
      "needs_background": "light"
     },
     "output_type": "display_data"
    }
   ],
   "source": [
    "sns.countplot(\"Survived\", data=train)\n",
    "plt.show()"
   ]
  },
  {
   "cell_type": "markdown",
   "metadata": {},
   "source": [
    "Women and children were allowed to escape first, so we expect that women will have higher survival rate."
   ]
  },
  {
   "cell_type": "code",
   "execution_count": 5,
   "metadata": {},
   "outputs": [
    {
     "data": {
      "image/png": "[encoded data removed]",
      "text/plain": [
       "<Figure size 1296x576 with 2 Axes>"
      ]
     },
     "metadata": {
      "needs_background": "light"
     },
     "output_type": "display_data"
    }
   ],
   "source": [
    "fig, ax = plt.subplots(1, 2, figsize=(18,8))\n",
    "#train[\"Sex\"].value_counts().plot.bar(color = \"skyblue\", ax = ax[0])\n",
    "sns.countplot(\"Sex\", data = train, ax = ax[0])\n",
    "ax[0].set_title(\"Number Of Passengers By Sex\")\n",
    "ax[0].set_ylabel(\"Population\")\n",
    "sns.countplot(\"Sex\", hue = \"Survived\", data = train, ax = ax[1])\n",
    "ax[1].set_title(\"Genderwise survival rates\")\n",
    "plt.show()"
   ]
  },
  {
   "cell_type": "code",
   "execution_count": 6,
   "metadata": {},
   "outputs": [
    {
     "name": "stderr",
     "output_type": "stream",
     "text": [
      "/home/rahul/anaconda2/lib/python2.7/site-packages/seaborn/categorical.py:3666: UserWarning: The `factorplot` function has been renamed to `catplot`. The original name will be removed in a future release. Please update your code. Note that the default `kind` in `factorplot` (`'point'`) has changed `'strip'` in `catplot`.\n",
      "  warnings.warn(msg)\n",
      "/home/rahul/anaconda2/lib/python2.7/site-packages/scipy/stats/stats.py:1713: FutureWarning: Using a non-tuple sequence for multidimensional indexing is deprecated; use `arr[tuple(seq)]` instead of `arr[seq]`. In the future this will be interpreted as an array index, `arr[np.array(seq)]`, which will result either in an error or a different result.\n",
      "  return np.add.reduce(sorted[indexer] * weights, axis=axis) / sumval\n"
     ]
    },
    {
     "data": {
      "text/plain": [
       "<seaborn.axisgrid.FacetGrid at 0x7f0a26145a90>"
      ]
     },
     "execution_count": 6,
     "metadata": {},
     "output_type": "execute_result"
    },
    {
     "data": {
      "image/png": "[encoded data removed]",
      "text/plain": [
       "<Figure size 430.5x360 with 1 Axes>"
      ]
     },
     "metadata": {
      "needs_background": "light"
     },
     "output_type": "display_data"
    }
   ],
   "source": [
    "sns.factorplot(\"Pclass\", \"Survived\", hue = \"Sex\", data = train)"
   ]
  },
  {
   "cell_type": "code",
   "execution_count": 7,
   "metadata": {},
   "outputs": [
    {
     "name": "stderr",
     "output_type": "stream",
     "text": [
      "/home/rahul/anaconda2/lib/python2.7/site-packages/seaborn/categorical.py:3666: UserWarning: The `factorplot` function has been renamed to `catplot`. The original name will be removed in a future release. Please update your code. Note that the default `kind` in `factorplot` (`'point'`) has changed `'strip'` in `catplot`.\n",
      "  warnings.warn(msg)\n"
     ]
    },
    {
     "data": {
      "text/plain": [
       "<seaborn.axisgrid.FacetGrid at 0x7f0a6029d710>"
      ]
     },
     "execution_count": 7,
     "metadata": {},
     "output_type": "execute_result"
    },
    {
     "data": {
      "image/png": "[encoded data removed]",
      "text/plain": [
       "<Figure size 402.375x360 with 1 Axes>"
      ]
     },
     "metadata": {
      "needs_background": "light"
     },
     "output_type": "display_data"
    }
   ],
   "source": [
    "sns.factorplot(\"Sex\", \"Survived\", hue = \"Pclass\", data = train)"
   ]
  },
  {
   "cell_type": "markdown",
   "metadata": {},
   "source": [
    "How many people of each passenger class, and who had the highest chance of survival?"
   ]
  },
  {
   "cell_type": "code",
   "execution_count": 8,
   "metadata": {},
   "outputs": [
    {
     "data": {
      "text/plain": [
       "<matplotlib.axes._subplots.AxesSubplot at 0x7f0a48e066d0>"
      ]
     },
     "execution_count": 8,
     "metadata": {},
     "output_type": "execute_result"
    },
    {
     "data": {
      "image/png": "[encoded data removed]",
      "text/plain": [
       "<Figure size 432x288 with 1 Axes>"
      ]
     },
     "metadata": {
      "needs_background": "light"
     },
     "output_type": "display_data"
    }
   ],
   "source": [
    "sns.countplot(\"Pclass\", data=train)"
   ]
  },
  {
   "cell_type": "code",
   "execution_count": 9,
   "metadata": {},
   "outputs": [
    {
     "data": {
      "text/plain": [
       "<matplotlib.axes._subplots.AxesSubplot at 0x7f0a48cc11d0>"
      ]
     },
     "execution_count": 9,
     "metadata": {},
     "output_type": "execute_result"
    },
    {
     "data": {
      "image/png": "[encoded data removed]",
      "text/plain": [
       "<Figure size 432x288 with 1 Axes>"
      ]
     },
     "metadata": {
      "needs_background": "light"
     },
     "output_type": "display_data"
    }
   ],
   "source": [
    "sns.countplot(\"Pclass\", hue= \"Survived\",data=train)\n",
    "#Classwise survival rates"
   ]
  },
  {
   "cell_type": "code",
   "execution_count": 10,
   "metadata": {},
   "outputs": [
    {
     "data": {
      "text/plain": [
       "<matplotlib.axes._subplots.AxesSubplot at 0x7f0a48e06990>"
      ]
     },
     "execution_count": 10,
     "metadata": {},
     "output_type": "execute_result"
    },
    {
     "data": {
      "image/png": "[encoded data removed]",
      "text/plain": [
       "<Figure size 432x288 with 1 Axes>"
      ]
     },
     "metadata": {
      "needs_background": "light"
     },
     "output_type": "display_data"
    }
   ],
   "source": [
    "sns.barplot(\"Sex\",\"Survived\",hue=\"Pclass\",data=train)"
   ]
  },
  {
   "cell_type": "markdown",
   "metadata": {},
   "source": [
    "Compare the survival rates by Passenger Class and Genders numerically."
   ]
  },
  {
   "cell_type": "code",
   "execution_count": 11,
   "metadata": {},
   "outputs": [
    {
     "data": {
      "text/html": [
       "<style  type=\"text/css\" >\n",
       "    #T_e17c0526_175b_11e9_ac71_79f873b41638row0_col0 {\n",
       "            background-color:  #ffff66;\n",
       "        }    #T_e17c0526_175b_11e9_ac71_79f873b41638row0_col1 {\n",
       "            background-color:  #e4f266;\n",
       "        }    #T_e17c0526_175b_11e9_ac71_79f873b41638row0_col2 {\n",
       "            background-color:  #ffff66;\n",
       "        }    #T_e17c0526_175b_11e9_ac71_79f873b41638row1_col0 {\n",
       "            background-color:  #b7db66;\n",
       "        }    #T_e17c0526_175b_11e9_ac71_79f873b41638row1_col1 {\n",
       "            background-color:  #f3f966;\n",
       "        }    #T_e17c0526_175b_11e9_ac71_79f873b41638row1_col2 {\n",
       "            background-color:  #eef666;\n",
       "        }    #T_e17c0526_175b_11e9_ac71_79f873b41638row2_col0 {\n",
       "            background-color:  #fdfe66;\n",
       "        }    #T_e17c0526_175b_11e9_ac71_79f873b41638row2_col1 {\n",
       "            background-color:  #deee66;\n",
       "        }    #T_e17c0526_175b_11e9_ac71_79f873b41638row2_col2 {\n",
       "            background-color:  #fafc66;\n",
       "        }    #T_e17c0526_175b_11e9_ac71_79f873b41638row3_col0 {\n",
       "            background-color:  #c8e366;\n",
       "        }    #T_e17c0526_175b_11e9_ac71_79f873b41638row3_col1 {\n",
       "            background-color:  #ffff66;\n",
       "        }    #T_e17c0526_175b_11e9_ac71_79f873b41638row3_col2 {\n",
       "            background-color:  #fdfe66;\n",
       "        }    #T_e17c0526_175b_11e9_ac71_79f873b41638row4_col0 {\n",
       "            background-color:  #c7e366;\n",
       "        }    #T_e17c0526_175b_11e9_ac71_79f873b41638row4_col1 {\n",
       "            background-color:  #7ebe66;\n",
       "        }    #T_e17c0526_175b_11e9_ac71_79f873b41638row4_col2 {\n",
       "            background-color:  #a3d166;\n",
       "        }    #T_e17c0526_175b_11e9_ac71_79f873b41638row5_col0 {\n",
       "            background-color:  #c7e366;\n",
       "        }    #T_e17c0526_175b_11e9_ac71_79f873b41638row5_col1 {\n",
       "            background-color:  #f2f866;\n",
       "        }    #T_e17c0526_175b_11e9_ac71_79f873b41638row5_col2 {\n",
       "            background-color:  #f3f966;\n",
       "        }    #T_e17c0526_175b_11e9_ac71_79f873b41638row6_col0 {\n",
       "            background-color:  #008066;\n",
       "        }    #T_e17c0526_175b_11e9_ac71_79f873b41638row6_col1 {\n",
       "            background-color:  #008066;\n",
       "        }    #T_e17c0526_175b_11e9_ac71_79f873b41638row6_col2 {\n",
       "            background-color:  #008066;\n",
       "        }</style>  \n",
       "<table id=\"T_e17c0526_175b_11e9_ac71_79f873b41638\" > \n",
       "<thead>    <tr> \n",
       "        <th class=\"blank\" ></th> \n",
       "        <th class=\"index_name level0\" >Sex</th> \n",
       "        <th class=\"col_heading level0 col0\" >female</th> \n",
       "        <th class=\"col_heading level0 col1\" >male</th> \n",
       "        <th class=\"col_heading level0 col2\" >All</th> \n",
       "    </tr>    <tr> \n",
       "        <th class=\"index_name level0\" >Pclass</th> \n",
       "        <th class=\"index_name level1\" >Survived</th> \n",
       "        <th class=\"blank\" ></th> \n",
       "        <th class=\"blank\" ></th> \n",
       "        <th class=\"blank\" ></th> \n",
       "    </tr></thead> \n",
       "<tbody>    <tr> \n",
       "        <th id=\"T_e17c0526_175b_11e9_ac71_79f873b41638level0_row0\" class=\"row_heading level0 row0\" rowspan=2>1</th> \n",
       "        <th id=\"T_e17c0526_175b_11e9_ac71_79f873b41638level1_row0\" class=\"row_heading level1 row0\" >0</th> \n",
       "        <td id=\"T_e17c0526_175b_11e9_ac71_79f873b41638row0_col0\" class=\"data row0 col0\" >3</td> \n",
       "        <td id=\"T_e17c0526_175b_11e9_ac71_79f873b41638row0_col1\" class=\"data row0 col1\" >77</td> \n",
       "        <td id=\"T_e17c0526_175b_11e9_ac71_79f873b41638row0_col2\" class=\"data row0 col2\" >80</td> \n",
       "    </tr>    <tr> \n",
       "        <th id=\"T_e17c0526_175b_11e9_ac71_79f873b41638level1_row1\" class=\"row_heading level1 row1\" >1</th> \n",
       "        <td id=\"T_e17c0526_175b_11e9_ac71_79f873b41638row1_col0\" class=\"data row1 col0\" >91</td> \n",
       "        <td id=\"T_e17c0526_175b_11e9_ac71_79f873b41638row1_col1\" class=\"data row1 col1\" >45</td> \n",
       "        <td id=\"T_e17c0526_175b_11e9_ac71_79f873b41638row1_col2\" class=\"data row1 col2\" >136</td> \n",
       "    </tr>    <tr> \n",
       "        <th id=\"T_e17c0526_175b_11e9_ac71_79f873b41638level0_row2\" class=\"row_heading level0 row2\" rowspan=2>2</th> \n",
       "        <th id=\"T_e17c0526_175b_11e9_ac71_79f873b41638level1_row2\" class=\"row_heading level1 row2\" >0</th> \n",
       "        <td id=\"T_e17c0526_175b_11e9_ac71_79f873b41638row2_col0\" class=\"data row2 col0\" >6</td> \n",
       "        <td id=\"T_e17c0526_175b_11e9_ac71_79f873b41638row2_col1\" class=\"data row2 col1\" >91</td> \n",
       "        <td id=\"T_e17c0526_175b_11e9_ac71_79f873b41638row2_col2\" class=\"data row2 col2\" >97</td> \n",
       "    </tr>    <tr> \n",
       "        <th id=\"T_e17c0526_175b_11e9_ac71_79f873b41638level1_row3\" class=\"row_heading level1 row3\" >1</th> \n",
       "        <td id=\"T_e17c0526_175b_11e9_ac71_79f873b41638row3_col0\" class=\"data row3 col0\" >70</td> \n",
       "        <td id=\"T_e17c0526_175b_11e9_ac71_79f873b41638row3_col1\" class=\"data row3 col1\" >17</td> \n",
       "        <td id=\"T_e17c0526_175b_11e9_ac71_79f873b41638row3_col2\" class=\"data row3 col2\" >87</td> \n",
       "    </tr>    <tr> \n",
       "        <th id=\"T_e17c0526_175b_11e9_ac71_79f873b41638level0_row4\" class=\"row_heading level0 row4\" rowspan=2>3</th> \n",
       "        <th id=\"T_e17c0526_175b_11e9_ac71_79f873b41638level1_row4\" class=\"row_heading level1 row4\" >0</th> \n",
       "        <td id=\"T_e17c0526_175b_11e9_ac71_79f873b41638row4_col0\" class=\"data row4 col0\" >72</td> \n",
       "        <td id=\"T_e17c0526_175b_11e9_ac71_79f873b41638row4_col1\" class=\"data row4 col1\" >300</td> \n",
       "        <td id=\"T_e17c0526_175b_11e9_ac71_79f873b41638row4_col2\" class=\"data row4 col2\" >372</td> \n",
       "    </tr>    <tr> \n",
       "        <th id=\"T_e17c0526_175b_11e9_ac71_79f873b41638level1_row5\" class=\"row_heading level1 row5\" >1</th> \n",
       "        <td id=\"T_e17c0526_175b_11e9_ac71_79f873b41638row5_col0\" class=\"data row5 col0\" >72</td> \n",
       "        <td id=\"T_e17c0526_175b_11e9_ac71_79f873b41638row5_col1\" class=\"data row5 col1\" >47</td> \n",
       "        <td id=\"T_e17c0526_175b_11e9_ac71_79f873b41638row5_col2\" class=\"data row5 col2\" >119</td> \n",
       "    </tr>    <tr> \n",
       "        <th id=\"T_e17c0526_175b_11e9_ac71_79f873b41638level0_row6\" class=\"row_heading level0 row6\" >All</th> \n",
       "        <th id=\"T_e17c0526_175b_11e9_ac71_79f873b41638level1_row6\" class=\"row_heading level1 row6\" ></th> \n",
       "        <td id=\"T_e17c0526_175b_11e9_ac71_79f873b41638row6_col0\" class=\"data row6 col0\" >314</td> \n",
       "        <td id=\"T_e17c0526_175b_11e9_ac71_79f873b41638row6_col1\" class=\"data row6 col1\" >577</td> \n",
       "        <td id=\"T_e17c0526_175b_11e9_ac71_79f873b41638row6_col2\" class=\"data row6 col2\" >891</td> \n",
       "    </tr></tbody> \n",
       "</table> "
      ],
      "text/plain": [
       "<pandas.io.formats.style.Styler at 0x7f0a48df8fd0>"
      ]
     },
     "execution_count": 11,
     "metadata": {},
     "output_type": "execute_result"
    }
   ],
   "source": [
    "#pd.crosstab([train[\"Pclass\"],train[\"Survived\"]],train[\"Sex\"],margins=True).style.background_gradient(cmap=\"summer_r\")\n",
    "pd.crosstab([train[\"Pclass\"],train[\"Survived\"]],train[\"Sex\"],margins=True).style.background_gradient(cmap=\"summer_r\")"
   ]
  },
  {
   "cell_type": "markdown",
   "metadata": {},
   "source": [
    "Compare the survival rates by Embarkation location and Genders numerically."
   ]
  },
  {
   "cell_type": "code",
   "execution_count": 12,
   "metadata": {},
   "outputs": [
    {
     "data": {
      "text/html": [
       "<style  type=\"text/css\" >\n",
       "    #T_e189b1f8_175b_11e9_ac71_79f873b41638row0_col0 {\n",
       "            background-color:  #ffff66;\n",
       "        }    #T_e189b1f8_175b_11e9_ac71_79f873b41638row0_col1 {\n",
       "            background-color:  #e3f166;\n",
       "        }    #T_e189b1f8_175b_11e9_ac71_79f873b41638row0_col2 {\n",
       "            background-color:  #f2f866;\n",
       "        }    #T_e189b1f8_175b_11e9_ac71_79f873b41638row1_col0 {\n",
       "            background-color:  #d1e866;\n",
       "        }    #T_e189b1f8_175b_11e9_ac71_79f873b41638row1_col1 {\n",
       "            background-color:  #f4fa66;\n",
       "        }    #T_e189b1f8_175b_11e9_ac71_79f873b41638row1_col2 {\n",
       "            background-color:  #edf666;\n",
       "        }    #T_e189b1f8_175b_11e9_ac71_79f873b41638row2_col0 {\n",
       "            background-color:  #ffff66;\n",
       "        }    #T_e189b1f8_175b_11e9_ac71_79f873b41638row2_col1 {\n",
       "            background-color:  #f0f866;\n",
       "        }    #T_e189b1f8_175b_11e9_ac71_79f873b41638row2_col2 {\n",
       "            background-color:  #fafc66;\n",
       "        }    #T_e189b1f8_175b_11e9_ac71_79f873b41638row3_col0 {\n",
       "            background-color:  #f0f866;\n",
       "        }    #T_e189b1f8_175b_11e9_ac71_79f873b41638row3_col1 {\n",
       "            background-color:  #ffff66;\n",
       "        }    #T_e189b1f8_175b_11e9_ac71_79f873b41638row3_col2 {\n",
       "            background-color:  #ffff66;\n",
       "        }    #T_e189b1f8_175b_11e9_ac71_79f873b41638row4_col0 {\n",
       "            background-color:  #d2e866;\n",
       "        }    #T_e189b1f8_175b_11e9_ac71_79f873b41638row4_col1 {\n",
       "            background-color:  #5eae66;\n",
       "        }    #T_e189b1f8_175b_11e9_ac71_79f873b41638row4_col2 {\n",
       "            background-color:  #89c466;\n",
       "        }    #T_e189b1f8_175b_11e9_ac71_79f873b41638row5_col0 {\n",
       "            background-color:  #90c866;\n",
       "        }    #T_e189b1f8_175b_11e9_ac71_79f873b41638row5_col1 {\n",
       "            background-color:  #deee66;\n",
       "        }    #T_e189b1f8_175b_11e9_ac71_79f873b41638row5_col2 {\n",
       "            background-color:  #c7e366;\n",
       "        }    #T_e189b1f8_175b_11e9_ac71_79f873b41638row6_col0 {\n",
       "            background-color:  #008066;\n",
       "        }    #T_e189b1f8_175b_11e9_ac71_79f873b41638row6_col1 {\n",
       "            background-color:  #008066;\n",
       "        }    #T_e189b1f8_175b_11e9_ac71_79f873b41638row6_col2 {\n",
       "            background-color:  #008066;\n",
       "        }</style>  \n",
       "<table id=\"T_e189b1f8_175b_11e9_ac71_79f873b41638\" > \n",
       "<thead>    <tr> \n",
       "        <th class=\"blank\" ></th> \n",
       "        <th class=\"index_name level0\" >Sex</th> \n",
       "        <th class=\"col_heading level0 col0\" >female</th> \n",
       "        <th class=\"col_heading level0 col1\" >male</th> \n",
       "        <th class=\"col_heading level0 col2\" >All</th> \n",
       "    </tr>    <tr> \n",
       "        <th class=\"index_name level0\" >Embarked</th> \n",
       "        <th class=\"index_name level1\" >Survived</th> \n",
       "        <th class=\"blank\" ></th> \n",
       "        <th class=\"blank\" ></th> \n",
       "        <th class=\"blank\" ></th> \n",
       "    </tr></thead> \n",
       "<tbody>    <tr> \n",
       "        <th id=\"T_e189b1f8_175b_11e9_ac71_79f873b41638level0_row0\" class=\"row_heading level0 row0\" rowspan=2>C</th> \n",
       "        <th id=\"T_e189b1f8_175b_11e9_ac71_79f873b41638level1_row0\" class=\"row_heading level1 row0\" >0</th> \n",
       "        <td id=\"T_e189b1f8_175b_11e9_ac71_79f873b41638row0_col0\" class=\"data row0 col0\" >9</td> \n",
       "        <td id=\"T_e189b1f8_175b_11e9_ac71_79f873b41638row0_col1\" class=\"data row0 col1\" >66</td> \n",
       "        <td id=\"T_e189b1f8_175b_11e9_ac71_79f873b41638row0_col2\" class=\"data row0 col2\" >75</td> \n",
       "    </tr>    <tr> \n",
       "        <th id=\"T_e189b1f8_175b_11e9_ac71_79f873b41638level1_row1\" class=\"row_heading level1 row1\" >1</th> \n",
       "        <td id=\"T_e189b1f8_175b_11e9_ac71_79f873b41638row1_col0\" class=\"data row1 col0\" >64</td> \n",
       "        <td id=\"T_e189b1f8_175b_11e9_ac71_79f873b41638row1_col1\" class=\"data row1 col1\" >29</td> \n",
       "        <td id=\"T_e189b1f8_175b_11e9_ac71_79f873b41638row1_col2\" class=\"data row1 col2\" >93</td> \n",
       "    </tr>    <tr> \n",
       "        <th id=\"T_e189b1f8_175b_11e9_ac71_79f873b41638level0_row2\" class=\"row_heading level0 row2\" rowspan=2>Q</th> \n",
       "        <th id=\"T_e189b1f8_175b_11e9_ac71_79f873b41638level1_row2\" class=\"row_heading level1 row2\" >0</th> \n",
       "        <td id=\"T_e189b1f8_175b_11e9_ac71_79f873b41638row2_col0\" class=\"data row2 col0\" >9</td> \n",
       "        <td id=\"T_e189b1f8_175b_11e9_ac71_79f873b41638row2_col1\" class=\"data row2 col1\" >38</td> \n",
       "        <td id=\"T_e189b1f8_175b_11e9_ac71_79f873b41638row2_col2\" class=\"data row2 col2\" >47</td> \n",
       "    </tr>    <tr> \n",
       "        <th id=\"T_e189b1f8_175b_11e9_ac71_79f873b41638level1_row3\" class=\"row_heading level1 row3\" >1</th> \n",
       "        <td id=\"T_e189b1f8_175b_11e9_ac71_79f873b41638row3_col0\" class=\"data row3 col0\" >27</td> \n",
       "        <td id=\"T_e189b1f8_175b_11e9_ac71_79f873b41638row3_col1\" class=\"data row3 col1\" >3</td> \n",
       "        <td id=\"T_e189b1f8_175b_11e9_ac71_79f873b41638row3_col2\" class=\"data row3 col2\" >30</td> \n",
       "    </tr>    <tr> \n",
       "        <th id=\"T_e189b1f8_175b_11e9_ac71_79f873b41638level0_row4\" class=\"row_heading level0 row4\" rowspan=2>S</th> \n",
       "        <th id=\"T_e189b1f8_175b_11e9_ac71_79f873b41638level1_row4\" class=\"row_heading level1 row4\" >0</th> \n",
       "        <td id=\"T_e189b1f8_175b_11e9_ac71_79f873b41638row4_col0\" class=\"data row4 col0\" >63</td> \n",
       "        <td id=\"T_e189b1f8_175b_11e9_ac71_79f873b41638row4_col1\" class=\"data row4 col1\" >364</td> \n",
       "        <td id=\"T_e189b1f8_175b_11e9_ac71_79f873b41638row4_col2\" class=\"data row4 col2\" >427</td> \n",
       "    </tr>    <tr> \n",
       "        <th id=\"T_e189b1f8_175b_11e9_ac71_79f873b41638level1_row5\" class=\"row_heading level1 row5\" >1</th> \n",
       "        <td id=\"T_e189b1f8_175b_11e9_ac71_79f873b41638row5_col0\" class=\"data row5 col0\" >142</td> \n",
       "        <td id=\"T_e189b1f8_175b_11e9_ac71_79f873b41638row5_col1\" class=\"data row5 col1\" >77</td> \n",
       "        <td id=\"T_e189b1f8_175b_11e9_ac71_79f873b41638row5_col2\" class=\"data row5 col2\" >219</td> \n",
       "    </tr>    <tr> \n",
       "        <th id=\"T_e189b1f8_175b_11e9_ac71_79f873b41638level0_row6\" class=\"row_heading level0 row6\" >All</th> \n",
       "        <th id=\"T_e189b1f8_175b_11e9_ac71_79f873b41638level1_row6\" class=\"row_heading level1 row6\" ></th> \n",
       "        <td id=\"T_e189b1f8_175b_11e9_ac71_79f873b41638row6_col0\" class=\"data row6 col0\" >314</td> \n",
       "        <td id=\"T_e189b1f8_175b_11e9_ac71_79f873b41638row6_col1\" class=\"data row6 col1\" >577</td> \n",
       "        <td id=\"T_e189b1f8_175b_11e9_ac71_79f873b41638row6_col2\" class=\"data row6 col2\" >891</td> \n",
       "    </tr></tbody> \n",
       "</table> "
      ],
      "text/plain": [
       "<pandas.io.formats.style.Styler at 0x7f0a486980d0>"
      ]
     },
     "execution_count": 12,
     "metadata": {},
     "output_type": "execute_result"
    }
   ],
   "source": [
    "pd.crosstab([train[\"Embarked\"],train[\"Survived\"]],train[\"Sex\"],margins=True).style.background_gradient(cmap = \"summer_r\")"
   ]
  },
  {
   "cell_type": "code",
   "execution_count": 13,
   "metadata": {},
   "outputs": [
    {
     "data": {
      "text/html": [
       "<style  type=\"text/css\" >\n",
       "    #T_e1a24498_175b_11e9_ac71_79f873b41638row0_col0 {\n",
       "            background-color:  #e2f066;\n",
       "        }    #T_e1a24498_175b_11e9_ac71_79f873b41638row0_col1 {\n",
       "            background-color:  #f6fa66;\n",
       "        }    #T_e1a24498_175b_11e9_ac71_79f873b41638row0_col2 {\n",
       "            background-color:  #f7fb66;\n",
       "        }    #T_e1a24498_175b_11e9_ac71_79f873b41638row0_col3 {\n",
       "            background-color:  #f2f866;\n",
       "        }    #T_e1a24498_175b_11e9_ac71_79f873b41638row1_col0 {\n",
       "            background-color:  #badc66;\n",
       "        }    #T_e1a24498_175b_11e9_ac71_79f873b41638row1_col1 {\n",
       "            background-color:  #f4fa66;\n",
       "        }    #T_e1a24498_175b_11e9_ac71_79f873b41638row1_col2 {\n",
       "            background-color:  #ffff66;\n",
       "        }    #T_e1a24498_175b_11e9_ac71_79f873b41638row1_col3 {\n",
       "            background-color:  #edf666;\n",
       "        }    #T_e1a24498_175b_11e9_ac71_79f873b41638row2_col0 {\n",
       "            background-color:  #ffff66;\n",
       "        }    #T_e1a24498_175b_11e9_ac71_79f873b41638row2_col1 {\n",
       "            background-color:  #ffff66;\n",
       "        }    #T_e1a24498_175b_11e9_ac71_79f873b41638row2_col2 {\n",
       "            background-color:  #f5fa66;\n",
       "        }    #T_e1a24498_175b_11e9_ac71_79f873b41638row2_col3 {\n",
       "            background-color:  #fafc66;\n",
       "        }    #T_e1a24498_175b_11e9_ac71_79f873b41638row3_col0 {\n",
       "            background-color:  #ffff66;\n",
       "        }    #T_e1a24498_175b_11e9_ac71_79f873b41638row3_col1 {\n",
       "            background-color:  #fefe66;\n",
       "        }    #T_e1a24498_175b_11e9_ac71_79f873b41638row3_col2 {\n",
       "            background-color:  #fefe66;\n",
       "        }    #T_e1a24498_175b_11e9_ac71_79f873b41638row3_col3 {\n",
       "            background-color:  #ffff66;\n",
       "        }    #T_e1a24498_175b_11e9_ac71_79f873b41638row4_col0 {\n",
       "            background-color:  #c2e066;\n",
       "        }    #T_e1a24498_175b_11e9_ac71_79f873b41638row4_col1 {\n",
       "            background-color:  #86c266;\n",
       "        }    #T_e1a24498_175b_11e9_ac71_79f873b41638row4_col2 {\n",
       "            background-color:  #70b866;\n",
       "        }    #T_e1a24498_175b_11e9_ac71_79f873b41638row4_col3 {\n",
       "            background-color:  #89c466;\n",
       "        }    #T_e1a24498_175b_11e9_ac71_79f873b41638row5_col0 {\n",
       "            background-color:  #a6d266;\n",
       "        }    #T_e1a24498_175b_11e9_ac71_79f873b41638row5_col1 {\n",
       "            background-color:  #97cb66;\n",
       "        }    #T_e1a24498_175b_11e9_ac71_79f873b41638row5_col2 {\n",
       "            background-color:  #e8f466;\n",
       "        }    #T_e1a24498_175b_11e9_ac71_79f873b41638row5_col3 {\n",
       "            background-color:  #c7e366;\n",
       "        }    #T_e1a24498_175b_11e9_ac71_79f873b41638row6_col0 {\n",
       "            background-color:  #008066;\n",
       "        }    #T_e1a24498_175b_11e9_ac71_79f873b41638row6_col1 {\n",
       "            background-color:  #008066;\n",
       "        }    #T_e1a24498_175b_11e9_ac71_79f873b41638row6_col2 {\n",
       "            background-color:  #008066;\n",
       "        }    #T_e1a24498_175b_11e9_ac71_79f873b41638row6_col3 {\n",
       "            background-color:  #008066;\n",
       "        }</style>  \n",
       "<table id=\"T_e1a24498_175b_11e9_ac71_79f873b41638\" > \n",
       "<thead>    <tr> \n",
       "        <th class=\"blank\" ></th> \n",
       "        <th class=\"index_name level0\" >Pclass</th> \n",
       "        <th class=\"col_heading level0 col0\" >1</th> \n",
       "        <th class=\"col_heading level0 col1\" >2</th> \n",
       "        <th class=\"col_heading level0 col2\" >3</th> \n",
       "        <th class=\"col_heading level0 col3\" >All</th> \n",
       "    </tr>    <tr> \n",
       "        <th class=\"index_name level0\" >Embarked</th> \n",
       "        <th class=\"index_name level1\" >Survived</th> \n",
       "        <th class=\"blank\" ></th> \n",
       "        <th class=\"blank\" ></th> \n",
       "        <th class=\"blank\" ></th> \n",
       "        <th class=\"blank\" ></th> \n",
       "    </tr></thead> \n",
       "<tbody>    <tr> \n",
       "        <th id=\"T_e1a24498_175b_11e9_ac71_79f873b41638level0_row0\" class=\"row_heading level0 row0\" rowspan=2>C</th> \n",
       "        <th id=\"T_e1a24498_175b_11e9_ac71_79f873b41638level1_row0\" class=\"row_heading level1 row0\" >0</th> \n",
       "        <td id=\"T_e1a24498_175b_11e9_ac71_79f873b41638row0_col0\" class=\"data row0 col0\" >26</td> \n",
       "        <td id=\"T_e1a24498_175b_11e9_ac71_79f873b41638row0_col1\" class=\"data row0 col1\" >8</td> \n",
       "        <td id=\"T_e1a24498_175b_11e9_ac71_79f873b41638row0_col2\" class=\"data row0 col2\" >41</td> \n",
       "        <td id=\"T_e1a24498_175b_11e9_ac71_79f873b41638row0_col3\" class=\"data row0 col3\" >75</td> \n",
       "    </tr>    <tr> \n",
       "        <th id=\"T_e1a24498_175b_11e9_ac71_79f873b41638level1_row1\" class=\"row_heading level1 row1\" >1</th> \n",
       "        <td id=\"T_e1a24498_175b_11e9_ac71_79f873b41638row1_col0\" class=\"data row1 col0\" >59</td> \n",
       "        <td id=\"T_e1a24498_175b_11e9_ac71_79f873b41638row1_col1\" class=\"data row1 col1\" >9</td> \n",
       "        <td id=\"T_e1a24498_175b_11e9_ac71_79f873b41638row1_col2\" class=\"data row1 col2\" >25</td> \n",
       "        <td id=\"T_e1a24498_175b_11e9_ac71_79f873b41638row1_col3\" class=\"data row1 col3\" >93</td> \n",
       "    </tr>    <tr> \n",
       "        <th id=\"T_e1a24498_175b_11e9_ac71_79f873b41638level0_row2\" class=\"row_heading level0 row2\" rowspan=2>Q</th> \n",
       "        <th id=\"T_e1a24498_175b_11e9_ac71_79f873b41638level1_row2\" class=\"row_heading level1 row2\" >0</th> \n",
       "        <td id=\"T_e1a24498_175b_11e9_ac71_79f873b41638row2_col0\" class=\"data row2 col0\" >1</td> \n",
       "        <td id=\"T_e1a24498_175b_11e9_ac71_79f873b41638row2_col1\" class=\"data row2 col1\" >1</td> \n",
       "        <td id=\"T_e1a24498_175b_11e9_ac71_79f873b41638row2_col2\" class=\"data row2 col2\" >45</td> \n",
       "        <td id=\"T_e1a24498_175b_11e9_ac71_79f873b41638row2_col3\" class=\"data row2 col3\" >47</td> \n",
       "    </tr>    <tr> \n",
       "        <th id=\"T_e1a24498_175b_11e9_ac71_79f873b41638level1_row3\" class=\"row_heading level1 row3\" >1</th> \n",
       "        <td id=\"T_e1a24498_175b_11e9_ac71_79f873b41638row3_col0\" class=\"data row3 col0\" >1</td> \n",
       "        <td id=\"T_e1a24498_175b_11e9_ac71_79f873b41638row3_col1\" class=\"data row3 col1\" >2</td> \n",
       "        <td id=\"T_e1a24498_175b_11e9_ac71_79f873b41638row3_col2\" class=\"data row3 col2\" >27</td> \n",
       "        <td id=\"T_e1a24498_175b_11e9_ac71_79f873b41638row3_col3\" class=\"data row3 col3\" >30</td> \n",
       "    </tr>    <tr> \n",
       "        <th id=\"T_e1a24498_175b_11e9_ac71_79f873b41638level0_row4\" class=\"row_heading level0 row4\" rowspan=2>S</th> \n",
       "        <th id=\"T_e1a24498_175b_11e9_ac71_79f873b41638level1_row4\" class=\"row_heading level1 row4\" >0</th> \n",
       "        <td id=\"T_e1a24498_175b_11e9_ac71_79f873b41638row4_col0\" class=\"data row4 col0\" >53</td> \n",
       "        <td id=\"T_e1a24498_175b_11e9_ac71_79f873b41638row4_col1\" class=\"data row4 col1\" >88</td> \n",
       "        <td id=\"T_e1a24498_175b_11e9_ac71_79f873b41638row4_col2\" class=\"data row4 col2\" >286</td> \n",
       "        <td id=\"T_e1a24498_175b_11e9_ac71_79f873b41638row4_col3\" class=\"data row4 col3\" >427</td> \n",
       "    </tr>    <tr> \n",
       "        <th id=\"T_e1a24498_175b_11e9_ac71_79f873b41638level1_row5\" class=\"row_heading level1 row5\" >1</th> \n",
       "        <td id=\"T_e1a24498_175b_11e9_ac71_79f873b41638row5_col0\" class=\"data row5 col0\" >76</td> \n",
       "        <td id=\"T_e1a24498_175b_11e9_ac71_79f873b41638row5_col1\" class=\"data row5 col1\" >76</td> \n",
       "        <td id=\"T_e1a24498_175b_11e9_ac71_79f873b41638row5_col2\" class=\"data row5 col2\" >67</td> \n",
       "        <td id=\"T_e1a24498_175b_11e9_ac71_79f873b41638row5_col3\" class=\"data row5 col3\" >219</td> \n",
       "    </tr>    <tr> \n",
       "        <th id=\"T_e1a24498_175b_11e9_ac71_79f873b41638level0_row6\" class=\"row_heading level0 row6\" >All</th> \n",
       "        <th id=\"T_e1a24498_175b_11e9_ac71_79f873b41638level1_row6\" class=\"row_heading level1 row6\" ></th> \n",
       "        <td id=\"T_e1a24498_175b_11e9_ac71_79f873b41638row6_col0\" class=\"data row6 col0\" >216</td> \n",
       "        <td id=\"T_e1a24498_175b_11e9_ac71_79f873b41638row6_col1\" class=\"data row6 col1\" >184</td> \n",
       "        <td id=\"T_e1a24498_175b_11e9_ac71_79f873b41638row6_col2\" class=\"data row6 col2\" >491</td> \n",
       "        <td id=\"T_e1a24498_175b_11e9_ac71_79f873b41638row6_col3\" class=\"data row6 col3\" >891</td> \n",
       "    </tr></tbody> \n",
       "</table> "
      ],
      "text/plain": [
       "<pandas.io.formats.style.Styler at 0x7f0a48dac490>"
      ]
     },
     "execution_count": 13,
     "metadata": {},
     "output_type": "execute_result"
    }
   ],
   "source": [
    "pd.crosstab([train[\"Embarked\"],train[\"Survived\"]],train[\"Pclass\"],margins=True).style.background_gradient(cmap=\"summer_r\")"
   ]
  },
  {
   "cell_type": "markdown",
   "metadata": {},
   "source": [
    "We can deduce some interesting findings from these embarkation wise numbers. The higher death rate of people who embarked at Southhampton can be attributed to the British cultural qualities of being polite in general, their 'standing in line' to wait for their turn. People from other countries were more individualistic, and this may have contributed to their comparatively higher survival rates."
   ]
  },
  {
   "cell_type": "markdown",
   "metadata": {},
   "source": [
    "Get their titles by string splitting:"
   ]
  },
  {
   "cell_type": "code",
   "execution_count": 14,
   "metadata": {},
   "outputs": [
    {
     "name": "stdout",
     "output_type": "stream",
     "text": [
      "['Mr', 'Mrs', 'Miss', 'Master', 'Don', 'Rev', 'Dr', 'Mme', 'Ms', 'Major', 'Lady', 'Sir', 'Mlle', 'Col', 'Capt', 'the Countess', 'Jonkheer']\n"
     ]
    }
   ],
   "source": [
    "def get_title(data_frame):\n",
    "    # Get names from data frame\n",
    "    name_data = data_frame[\"Name\"]\n",
    "    \n",
    "    # Obtain titles\n",
    "    data_frame[\"Title\"] = [name.split(\", \", 1)[1].split(\".\", 1)[0] for name in name_data]\n",
    "    \n",
    "    # Find all titles\n",
    "    titles = []\n",
    "    for title in data_frame[\"Title\"]:\n",
    "        if title not in titles:\n",
    "            titles.append(title)        \n",
    "    \n",
    "    return data_frame, titles\n",
    "\n",
    "train, titles = get_title(train)\n",
    "print(titles)\n"
   ]
  },
  {
   "cell_type": "code",
   "execution_count": 15,
   "metadata": {},
   "outputs": [
    {
     "data": {
      "text/html": [
       "<style  type=\"text/css\" >\n",
       "    #T_e1d8c194_175b_11e9_ac71_79f873b41638row0_col0 {\n",
       "            background-color:  #ffff66;\n",
       "        }    #T_e1d8c194_175b_11e9_ac71_79f873b41638row0_col1 {\n",
       "            background-color:  #ffff66;\n",
       "        }    #T_e1d8c194_175b_11e9_ac71_79f873b41638row0_col2 {\n",
       "            background-color:  #ffff66;\n",
       "        }    #T_e1d8c194_175b_11e9_ac71_79f873b41638row0_col3 {\n",
       "            background-color:  #ffff66;\n",
       "        }    #T_e1d8c194_175b_11e9_ac71_79f873b41638row0_col4 {\n",
       "            background-color:  #ffff66;\n",
       "        }    #T_e1d8c194_175b_11e9_ac71_79f873b41638row0_col5 {\n",
       "            background-color:  #008066;\n",
       "        }    #T_e1d8c194_175b_11e9_ac71_79f873b41638row0_col6 {\n",
       "            background-color:  #ffff66;\n",
       "        }    #T_e1d8c194_175b_11e9_ac71_79f873b41638row0_col7 {\n",
       "            background-color:  #ffff66;\n",
       "        }    #T_e1d8c194_175b_11e9_ac71_79f873b41638row0_col8 {\n",
       "            background-color:  #008066;\n",
       "        }    #T_e1d8c194_175b_11e9_ac71_79f873b41638row0_col9 {\n",
       "            background-color:  #008066;\n",
       "        }    #T_e1d8c194_175b_11e9_ac71_79f873b41638row0_col10 {\n",
       "            background-color:  #008066;\n",
       "        }    #T_e1d8c194_175b_11e9_ac71_79f873b41638row0_col11 {\n",
       "            background-color:  #ffff66;\n",
       "        }    #T_e1d8c194_175b_11e9_ac71_79f873b41638row0_col12 {\n",
       "            background-color:  #008066;\n",
       "        }    #T_e1d8c194_175b_11e9_ac71_79f873b41638row0_col13 {\n",
       "            background-color:  #008066;\n",
       "        }    #T_e1d8c194_175b_11e9_ac71_79f873b41638row0_col14 {\n",
       "            background-color:  #ffff66;\n",
       "        }    #T_e1d8c194_175b_11e9_ac71_79f873b41638row0_col15 {\n",
       "            background-color:  #ffff66;\n",
       "        }    #T_e1d8c194_175b_11e9_ac71_79f873b41638row0_col16 {\n",
       "            background-color:  #008066;\n",
       "        }    #T_e1d8c194_175b_11e9_ac71_79f873b41638row1_col0 {\n",
       "            background-color:  #008066;\n",
       "        }    #T_e1d8c194_175b_11e9_ac71_79f873b41638row1_col1 {\n",
       "            background-color:  #008066;\n",
       "        }    #T_e1d8c194_175b_11e9_ac71_79f873b41638row1_col2 {\n",
       "            background-color:  #008066;\n",
       "        }    #T_e1d8c194_175b_11e9_ac71_79f873b41638row1_col3 {\n",
       "            background-color:  #008066;\n",
       "        }    #T_e1d8c194_175b_11e9_ac71_79f873b41638row1_col4 {\n",
       "            background-color:  #008066;\n",
       "        }    #T_e1d8c194_175b_11e9_ac71_79f873b41638row1_col5 {\n",
       "            background-color:  #ffff66;\n",
       "        }    #T_e1d8c194_175b_11e9_ac71_79f873b41638row1_col6 {\n",
       "            background-color:  #008066;\n",
       "        }    #T_e1d8c194_175b_11e9_ac71_79f873b41638row1_col7 {\n",
       "            background-color:  #008066;\n",
       "        }    #T_e1d8c194_175b_11e9_ac71_79f873b41638row1_col8 {\n",
       "            background-color:  #ffff66;\n",
       "        }    #T_e1d8c194_175b_11e9_ac71_79f873b41638row1_col9 {\n",
       "            background-color:  #ffff66;\n",
       "        }    #T_e1d8c194_175b_11e9_ac71_79f873b41638row1_col10 {\n",
       "            background-color:  #ffff66;\n",
       "        }    #T_e1d8c194_175b_11e9_ac71_79f873b41638row1_col11 {\n",
       "            background-color:  #008066;\n",
       "        }    #T_e1d8c194_175b_11e9_ac71_79f873b41638row1_col12 {\n",
       "            background-color:  #ffff66;\n",
       "        }    #T_e1d8c194_175b_11e9_ac71_79f873b41638row1_col13 {\n",
       "            background-color:  #ffff66;\n",
       "        }    #T_e1d8c194_175b_11e9_ac71_79f873b41638row1_col14 {\n",
       "            background-color:  #008066;\n",
       "        }    #T_e1d8c194_175b_11e9_ac71_79f873b41638row1_col15 {\n",
       "            background-color:  #008066;\n",
       "        }    #T_e1d8c194_175b_11e9_ac71_79f873b41638row1_col16 {\n",
       "            background-color:  #ffff66;\n",
       "        }</style>  \n",
       "<table id=\"T_e1d8c194_175b_11e9_ac71_79f873b41638\" > \n",
       "<thead>    <tr> \n",
       "        <th class=\"index_name level0\" >Title</th> \n",
       "        <th class=\"col_heading level0 col0\" >Capt</th> \n",
       "        <th class=\"col_heading level0 col1\" >Col</th> \n",
       "        <th class=\"col_heading level0 col2\" >Don</th> \n",
       "        <th class=\"col_heading level0 col3\" >Dr</th> \n",
       "        <th class=\"col_heading level0 col4\" >Jonkheer</th> \n",
       "        <th class=\"col_heading level0 col5\" >Lady</th> \n",
       "        <th class=\"col_heading level0 col6\" >Major</th> \n",
       "        <th class=\"col_heading level0 col7\" >Master</th> \n",
       "        <th class=\"col_heading level0 col8\" >Miss</th> \n",
       "        <th class=\"col_heading level0 col9\" >Mlle</th> \n",
       "        <th class=\"col_heading level0 col10\" >Mme</th> \n",
       "        <th class=\"col_heading level0 col11\" >Mr</th> \n",
       "        <th class=\"col_heading level0 col12\" >Mrs</th> \n",
       "        <th class=\"col_heading level0 col13\" >Ms</th> \n",
       "        <th class=\"col_heading level0 col14\" >Rev</th> \n",
       "        <th class=\"col_heading level0 col15\" >Sir</th> \n",
       "        <th class=\"col_heading level0 col16\" >the Countess</th> \n",
       "    </tr>    <tr> \n",
       "        <th class=\"index_name level0\" >Sex</th> \n",
       "        <th class=\"blank\" ></th> \n",
       "        <th class=\"blank\" ></th> \n",
       "        <th class=\"blank\" ></th> \n",
       "        <th class=\"blank\" ></th> \n",
       "        <th class=\"blank\" ></th> \n",
       "        <th class=\"blank\" ></th> \n",
       "        <th class=\"blank\" ></th> \n",
       "        <th class=\"blank\" ></th> \n",
       "        <th class=\"blank\" ></th> \n",
       "        <th class=\"blank\" ></th> \n",
       "        <th class=\"blank\" ></th> \n",
       "        <th class=\"blank\" ></th> \n",
       "        <th class=\"blank\" ></th> \n",
       "        <th class=\"blank\" ></th> \n",
       "        <th class=\"blank\" ></th> \n",
       "        <th class=\"blank\" ></th> \n",
       "        <th class=\"blank\" ></th> \n",
       "    </tr></thead> \n",
       "<tbody>    <tr> \n",
       "        <th id=\"T_e1d8c194_175b_11e9_ac71_79f873b41638level0_row0\" class=\"row_heading level0 row0\" >female</th> \n",
       "        <td id=\"T_e1d8c194_175b_11e9_ac71_79f873b41638row0_col0\" class=\"data row0 col0\" >0</td> \n",
       "        <td id=\"T_e1d8c194_175b_11e9_ac71_79f873b41638row0_col1\" class=\"data row0 col1\" >0</td> \n",
       "        <td id=\"T_e1d8c194_175b_11e9_ac71_79f873b41638row0_col2\" class=\"data row0 col2\" >0</td> \n",
       "        <td id=\"T_e1d8c194_175b_11e9_ac71_79f873b41638row0_col3\" class=\"data row0 col3\" >1</td> \n",
       "        <td id=\"T_e1d8c194_175b_11e9_ac71_79f873b41638row0_col4\" class=\"data row0 col4\" >0</td> \n",
       "        <td id=\"T_e1d8c194_175b_11e9_ac71_79f873b41638row0_col5\" class=\"data row0 col5\" >1</td> \n",
       "        <td id=\"T_e1d8c194_175b_11e9_ac71_79f873b41638row0_col6\" class=\"data row0 col6\" >0</td> \n",
       "        <td id=\"T_e1d8c194_175b_11e9_ac71_79f873b41638row0_col7\" class=\"data row0 col7\" >0</td> \n",
       "        <td id=\"T_e1d8c194_175b_11e9_ac71_79f873b41638row0_col8\" class=\"data row0 col8\" >182</td> \n",
       "        <td id=\"T_e1d8c194_175b_11e9_ac71_79f873b41638row0_col9\" class=\"data row0 col9\" >2</td> \n",
       "        <td id=\"T_e1d8c194_175b_11e9_ac71_79f873b41638row0_col10\" class=\"data row0 col10\" >1</td> \n",
       "        <td id=\"T_e1d8c194_175b_11e9_ac71_79f873b41638row0_col11\" class=\"data row0 col11\" >0</td> \n",
       "        <td id=\"T_e1d8c194_175b_11e9_ac71_79f873b41638row0_col12\" class=\"data row0 col12\" >125</td> \n",
       "        <td id=\"T_e1d8c194_175b_11e9_ac71_79f873b41638row0_col13\" class=\"data row0 col13\" >1</td> \n",
       "        <td id=\"T_e1d8c194_175b_11e9_ac71_79f873b41638row0_col14\" class=\"data row0 col14\" >0</td> \n",
       "        <td id=\"T_e1d8c194_175b_11e9_ac71_79f873b41638row0_col15\" class=\"data row0 col15\" >0</td> \n",
       "        <td id=\"T_e1d8c194_175b_11e9_ac71_79f873b41638row0_col16\" class=\"data row0 col16\" >1</td> \n",
       "    </tr>    <tr> \n",
       "        <th id=\"T_e1d8c194_175b_11e9_ac71_79f873b41638level0_row1\" class=\"row_heading level0 row1\" >male</th> \n",
       "        <td id=\"T_e1d8c194_175b_11e9_ac71_79f873b41638row1_col0\" class=\"data row1 col0\" >1</td> \n",
       "        <td id=\"T_e1d8c194_175b_11e9_ac71_79f873b41638row1_col1\" class=\"data row1 col1\" >2</td> \n",
       "        <td id=\"T_e1d8c194_175b_11e9_ac71_79f873b41638row1_col2\" class=\"data row1 col2\" >1</td> \n",
       "        <td id=\"T_e1d8c194_175b_11e9_ac71_79f873b41638row1_col3\" class=\"data row1 col3\" >6</td> \n",
       "        <td id=\"T_e1d8c194_175b_11e9_ac71_79f873b41638row1_col4\" class=\"data row1 col4\" >1</td> \n",
       "        <td id=\"T_e1d8c194_175b_11e9_ac71_79f873b41638row1_col5\" class=\"data row1 col5\" >0</td> \n",
       "        <td id=\"T_e1d8c194_175b_11e9_ac71_79f873b41638row1_col6\" class=\"data row1 col6\" >2</td> \n",
       "        <td id=\"T_e1d8c194_175b_11e9_ac71_79f873b41638row1_col7\" class=\"data row1 col7\" >40</td> \n",
       "        <td id=\"T_e1d8c194_175b_11e9_ac71_79f873b41638row1_col8\" class=\"data row1 col8\" >0</td> \n",
       "        <td id=\"T_e1d8c194_175b_11e9_ac71_79f873b41638row1_col9\" class=\"data row1 col9\" >0</td> \n",
       "        <td id=\"T_e1d8c194_175b_11e9_ac71_79f873b41638row1_col10\" class=\"data row1 col10\" >0</td> \n",
       "        <td id=\"T_e1d8c194_175b_11e9_ac71_79f873b41638row1_col11\" class=\"data row1 col11\" >517</td> \n",
       "        <td id=\"T_e1d8c194_175b_11e9_ac71_79f873b41638row1_col12\" class=\"data row1 col12\" >0</td> \n",
       "        <td id=\"T_e1d8c194_175b_11e9_ac71_79f873b41638row1_col13\" class=\"data row1 col13\" >0</td> \n",
       "        <td id=\"T_e1d8c194_175b_11e9_ac71_79f873b41638row1_col14\" class=\"data row1 col14\" >6</td> \n",
       "        <td id=\"T_e1d8c194_175b_11e9_ac71_79f873b41638row1_col15\" class=\"data row1 col15\" >1</td> \n",
       "        <td id=\"T_e1d8c194_175b_11e9_ac71_79f873b41638row1_col16\" class=\"data row1 col16\" >0</td> \n",
       "    </tr></tbody> \n",
       "</table> "
      ],
      "text/plain": [
       "<pandas.io.formats.style.Styler at 0x7f0a234d3490>"
      ]
     },
     "execution_count": 15,
     "metadata": {},
     "output_type": "execute_result"
    }
   ],
   "source": [
    "pd.crosstab(train[\"Title\"],train[\"Sex\"]).T.style.background_gradient(cmap=\"summer_r\")"
   ]
  },
  {
   "cell_type": "code",
   "execution_count": 16,
   "metadata": {},
   "outputs": [],
   "source": [
    "def title2int(data):\n",
    "    data[\"Title\"].replace([\"Major\", \"Capt\", \"Sir\", \"Dr\", \"Don\", \"Mlle\", \"Mme\", \"Ms\", \"Dona\", \"Lady\", \"the Countess\", \"Jonkheer\", \"Col\", \"Rev\"],\n",
    "                           [\"Mr\", \"Mr\", \"Mr\", \"Mr\", \"Mr\", \"Miss\", \"Miss\", \"Miss\", \"Mrs\", \"Mrs\", \"Mrs\", \"Other\", \"Other\", \"Other\"], inplace = True)\n",
    "    data[\"Title\"].replace([\"Mr\", \"Miss\", \"Mrs\", \"Master\", \"Other\"], [0, 1, 2, 3, 4], inplace = True)\n",
    "    return data\n",
    "\n",
    "train = title2int(train)"
   ]
  },
  {
   "cell_type": "code",
   "execution_count": 17,
   "metadata": {},
   "outputs": [
    {
     "data": {
      "text/plain": [
       "Title\n",
       "0    32.739609\n",
       "1    21.860000\n",
       "2    35.981818\n",
       "3     4.574167\n",
       "4    45.888889\n",
       "Name: Age, dtype: float64"
      ]
     },
     "execution_count": 17,
     "metadata": {},
     "output_type": "execute_result"
    }
   ],
   "source": [
    "train.groupby(\"Title\")[\"Age\"].mean()"
   ]
  },
  {
   "cell_type": "code",
   "execution_count": 18,
   "metadata": {},
   "outputs": [
    {
     "data": {
      "text/plain": [
       "<matplotlib.axes._subplots.AxesSubplot at 0x7f0a234cf390>"
      ]
     },
     "execution_count": 18,
     "metadata": {},
     "output_type": "execute_result"
    },
    {
     "data": {
      "image/png": "[encoded data removed]",
      "text/plain": [
       "<Figure size 432x288 with 1 Axes>"
      ]
     },
     "metadata": {
      "needs_background": "light"
     },
     "output_type": "display_data"
    }
   ],
   "source": [
    "sns.countplot(\"Title\",hue=\"Survived\",data=train)"
   ]
  },
  {
   "cell_type": "code",
   "execution_count": 19,
   "metadata": {},
   "outputs": [
    {
     "data": {
      "text/plain": [
       "<matplotlib.axes._subplots.AxesSubplot at 0x7f0a64a90ed0>"
      ]
     },
     "execution_count": 19,
     "metadata": {},
     "output_type": "execute_result"
    },
    {
     "data": {
      "image/png": "[encoded data removed]",
      "text/plain": [
       "<Figure size 432x288 with 1 Axes>"
      ]
     },
     "metadata": {
      "needs_background": "light"
     },
     "output_type": "display_data"
    }
   ],
   "source": [
    "sns.boxplot(train[train[\"Pclass\"]==1][\"Fare\"], data=train)"
   ]
  },
  {
   "cell_type": "code",
   "execution_count": 20,
   "metadata": {},
   "outputs": [
    {
     "data": {
      "text/plain": [
       "<matplotlib.axes._subplots.AxesSubplot at 0x7f0a234bc450>"
      ]
     },
     "execution_count": 20,
     "metadata": {},
     "output_type": "execute_result"
    },
    {
     "data": {
      "image/png": "[encoded data removed]",
      "text/plain": [
       "<Figure size 432x288 with 1 Axes>"
      ]
     },
     "metadata": {
      "needs_background": "light"
     },
     "output_type": "display_data"
    }
   ],
   "source": [
    "sns.boxplot(train[train[\"Pclass\"]==2][\"Fare\"], data=train)"
   ]
  },
  {
   "cell_type": "code",
   "execution_count": 21,
   "metadata": {},
   "outputs": [
    {
     "data": {
      "text/plain": [
       "<matplotlib.axes._subplots.AxesSubplot at 0x7f0a234d3550>"
      ]
     },
     "execution_count": 21,
     "metadata": {},
     "output_type": "execute_result"
    },
    {
     "data": {
      "image/png": "[encoded data removed]",
      "text/plain": [
       "<Figure size 432x288 with 1 Axes>"
      ]
     },
     "metadata": {
      "needs_background": "light"
     },
     "output_type": "display_data"
    }
   ],
   "source": [
    "sns.boxplot(train[train[\"Pclass\"]==3][\"Fare\"], data=train)"
   ]
  },
  {
   "cell_type": "code",
   "execution_count": 22,
   "metadata": {},
   "outputs": [
    {
     "data": {
      "text/plain": [
       "Pclass\n",
       "1    84.154687\n",
       "2    20.662183\n",
       "3    13.675550\n",
       "Name: Fare, dtype: float64"
      ]
     },
     "execution_count": 22,
     "metadata": {},
     "output_type": "execute_result"
    }
   ],
   "source": [
    "train.groupby(\"Pclass\")[\"Fare\"].mean()"
   ]
  },
  {
   "cell_type": "code",
   "execution_count": 23,
   "metadata": {},
   "outputs": [
    {
     "data": {
      "text/plain": [
       "Pclass\n",
       "1    60.2875\n",
       "2    14.2500\n",
       "3     8.0500\n",
       "Name: Fare, dtype: float64"
      ]
     },
     "execution_count": 23,
     "metadata": {},
     "output_type": "execute_result"
    }
   ],
   "source": [
    "train.groupby(\"Pclass\")[\"Fare\"].median()"
   ]
  },
  {
   "cell_type": "code",
   "execution_count": 24,
   "metadata": {},
   "outputs": [],
   "source": [
    "def faregroup(data):\n",
    "    data[\"Fare_group\"]=\"NaN\"\n",
    "    data.loc[data[\"Fare\"]<65,\"Fare_group\"]=2\n",
    "    data.loc[data[\"Fare\"]>=65,\"Fare_group\"]=1    \n",
    "    return data\n",
    "\n",
    "train=faregroup(train)\n",
    "    "
   ]
  },
  {
   "cell_type": "code",
   "execution_count": 25,
   "metadata": {},
   "outputs": [
    {
     "data": {
      "image/png": "[encoded data removed]",
      "text/plain": [
       "<Figure size 432x288 with 1 Axes>"
      ]
     },
     "metadata": {
      "needs_background": "light"
     },
     "output_type": "display_data"
    }
   ],
   "source": [
    "sns.countplot(\"Fare_group\", hue = \"Survived\", data = train)\n",
    "plt.show()"
   ]
  },
  {
   "cell_type": "code",
   "execution_count": 26,
   "metadata": {},
   "outputs": [],
   "source": [
    "train[\"Embarked\"].replace([\"S\", \"Q\", \"C\"], [1, 2, 3], inplace = True)"
   ]
  },
  {
   "cell_type": "code",
   "execution_count": 27,
   "metadata": {},
   "outputs": [
    {
     "data": {
      "image/png": "[encoded data removed]",
      "text/plain": [
       "<Figure size 432x288 with 1 Axes>"
      ]
     },
     "metadata": {
      "needs_background": "light"
     },
     "output_type": "display_data"
    }
   ],
   "source": [
    "def Cabin_type(data):\n",
    "    data.loc[data[\"Cabin\"].notnull(), \"Cabin\"] = \"Known\"\n",
    "    data.loc[data[\"Cabin\"].isnull(), \"Cabin\"] = \"Unknown\"\n",
    "    return data\n",
    "\n",
    "train = Cabin_type(train)\n",
    "sns.countplot(\"Cabin\", hue = \"Survived\", data = train)\n",
    "plt.show()"
   ]
  },
  {
   "cell_type": "code",
   "execution_count": 28,
   "metadata": {},
   "outputs": [],
   "source": [
    "def cab2int(data):\n",
    "    data.loc[data[\"Cabin\"] == \"Known\", 'Cabin'] = 2\n",
    "    data.loc[data[\"Cabin\"] == \"Unknown\", 'Cabin'] = 1\n",
    "    return data\n",
    "\n",
    "train = cab2int(train)"
   ]
  },
  {
   "cell_type": "code",
   "execution_count": 29,
   "metadata": {},
   "outputs": [],
   "source": [
    "train[\"Sex\"].replace([\"male\",\"female\"],[1,2],inplace=True)"
   ]
  },
  {
   "cell_type": "code",
   "execution_count": 31,
   "metadata": {},
   "outputs": [
    {
     "data": {
      "text/plain": [
       "Title\n",
       "0    32.739609\n",
       "1    21.860000\n",
       "2    35.981818\n",
       "3     4.574167\n",
       "4    45.888889\n",
       "Name: Age, dtype: float64"
      ]
     },
     "execution_count": 31,
     "metadata": {},
     "output_type": "execute_result"
    }
   ],
   "source": [
    "train.groupby(\"Title\")[\"Age\"].mean()"
   ]
  },
  {
   "cell_type": "markdown",
   "metadata": {},
   "source": [
    "We hypothesize that young children will be given more consideration, and on the whole, will have higher survival rates than their adult counterparts."
   ]
  },
  {
   "cell_type": "markdown",
   "metadata": {},
   "source": [
    "New feature - age groups"
   ]
  },
  {
   "cell_type": "code",
   "execution_count": 35,
   "metadata": {},
   "outputs": [],
   "source": [
    "def agegroup(data):\n",
    "    data[\"Age_group\"]=\"NaN\"\n",
    "    data.loc[data[\"Age\"]<10,\"Age_group\"]=1 #young kids\n",
    "    data.loc[(data[\"Age\"]>=13)&(data[\"Age\"]<20),\"Age_group\"]=2 #teens and young adults\n",
    "    data.loc[(data[\"Age\"]>=20)&(data[\"Age\"]<32),\"Age_group\"]=3 #adults\n",
    "    data.loc[(data[\"Age\"]>=32)&(data[\"Age\"]<48),\"Age_group\"]=4 #middle aged\n",
    "    data.loc[(data[\"Age\"]>=48)&(data[\"Age\"]<65),\"Age_group\"]=5 #initial elderly\n",
    "    data.loc[(data[\"Age\"]>=65),\"Age_group\"]=6 #elderly\n",
    "    return data\n",
    "\n",
    "train=agegroup(train)    "
   ]
  },
  {
   "cell_type": "code",
   "execution_count": 36,
   "metadata": {},
   "outputs": [
    {
     "data": {
      "image/png": "[encoded data removed]",
      "text/plain": [
       "<Figure size 432x288 with 1 Axes>"
      ]
     },
     "metadata": {
      "needs_background": "light"
     },
     "output_type": "display_data"
    }
   ],
   "source": [
    "sns.countplot(\"Age_group\", hue = \"Survived\", data = train)\n",
    "plt.show()"
   ]
  },
  {
   "cell_type": "markdown",
   "metadata": {},
   "source": [
    "Our hypothesis was correct, but we also notice a large number of NaN values for age, we must calculate them, preferably with predicted values using Random Forest Regression."
   ]
  },
  {
   "cell_type": "markdown",
   "metadata": {},
   "source": [
    "New feature - Group them as being child or non child."
   ]
  },
  {
   "cell_type": "code",
   "execution_count": 33,
   "metadata": {},
   "outputs": [],
   "source": [
    "def childgroup(data):\n",
    "    data[\"Child\"] = \"NaN\"\n",
    "    data.loc[data[\"Age\"] <= 18, \"Child\"] = 0 # Child\n",
    "    data.loc[data[\"Age\"] > 18, \"Child\"] = 1 # Adult\n",
    "    return data\n",
    "\n",
    "train = childgroup(train)"
   ]
  },
  {
   "cell_type": "code",
   "execution_count": 34,
   "metadata": {},
   "outputs": [
    {
     "data": {
      "image/png": "[encoded data removed]",
      "text/plain": [
       "<Figure size 432x288 with 1 Axes>"
      ]
     },
     "metadata": {
      "needs_background": "light"
     },
     "output_type": "display_data"
    }
   ],
   "source": [
    "sns.countplot(\"Child\", hue = \"Survived\", data = train, palette = \"Greens_d\")\n",
    "plt.show()"
   ]
  },
  {
   "cell_type": "code",
   "execution_count": 37,
   "metadata": {},
   "outputs": [],
   "source": [
    "train[\"FamSize\"] = train[\"SibSp\"] + train[\"Parch\"] + 1"
   ]
  },
  {
   "cell_type": "markdown",
   "metadata": {},
   "source": [
    "New feature - Group them as having family, and no family. We may think that having families is a burden, and causes a lower survival rate, as people may want to rescue their family members as well, which is more difficult than escaping alone. However another way of approaching this would be to consider - wouldnt family members favour their own to climb onto the safety boats, leading to higher survival? Let us visualise this to find out."
   ]
  },
  {
   "cell_type": "code",
   "execution_count": 38,
   "metadata": {},
   "outputs": [],
   "source": [
    "def family(data):\n",
    "    data[\"Fam_group\"] = \"NaN\"\n",
    "    data.loc[data[\"FamSize\"] == 1, \"Fam_group\"] = 0 # Single\n",
    "    data.loc[data[\"FamSize\"] > 1, \"Fam_group\"] = 1 # Family\n",
    "    return data\n",
    "\n",
    "train = family(train)"
   ]
  },
  {
   "cell_type": "markdown",
   "metadata": {},
   "source": [
    "Visualise survival of people w/o families."
   ]
  },
  {
   "cell_type": "code",
   "execution_count": 39,
   "metadata": {},
   "outputs": [
    {
     "data": {
      "image/png": "[encoded data removed]",
      "text/plain": [
       "<Figure size 432x288 with 1 Axes>"
      ]
     },
     "metadata": {
      "needs_background": "light"
     },
     "output_type": "display_data"
    }
   ],
   "source": [
    "sns.countplot(\"Fam_group\", hue = \"Survived\", data = train, palette = \"Greens_d\")\n",
    "plt.show()"
   ]
  },
  {
   "cell_type": "markdown",
   "metadata": {},
   "source": [
    "Turns out people with no family members have higher death rates than people with family members."
   ]
  }
 ],
 "metadata": {
  "kernelspec": {
   "display_name": "Python 2",
   "language": "python",
   "name": "python2"
  },
  "language_info": {
   "codemirror_mode": {
    "name": "ipython",
    "version": 2
   },
   "file_extension": ".py",
   "mimetype": "text/x-python",
   "name": "python",
   "nbconvert_exporter": "python",
   "pygments_lexer": "ipython2",
   "version": "2.7.15"
  }
 },
 "nbformat": 4,
 "nbformat_minor": 2
}
