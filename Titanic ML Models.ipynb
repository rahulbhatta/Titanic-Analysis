{
 "cells": [
  {
   "cell_type": "code",
   "execution_count": 1,
   "metadata": {},
   "outputs": [],
   "source": [
    "import numpy as np\n",
    "import pandas as pd\n",
    "from pandas import Series, DataFrame\n",
    "import matplotlib.pyplot as plt\n",
    "import seaborn as sns\n",
    "\n",
    "survival = pd.read_csv(\"gender_submission.csv\")\n",
    "test = pd.read_csv(\"test.csv\")\n",
    "train = pd.read_csv(\"train.csv\")"
   ]
  },
  {
   "cell_type": "markdown",
   "metadata": {},
   "source": [
    "Get their titles by string splitting:"
   ]
  },
  {
   "cell_type": "code",
   "execution_count": 2,
   "metadata": {},
   "outputs": [
    {
     "name": "stdout",
     "output_type": "stream",
     "text": [
      "['Mr', 'Mrs', 'Miss', 'Master', 'Don', 'Rev', 'Dr', 'Mme', 'Ms', 'Major', 'Lady', 'Sir', 'Mlle', 'Col', 'Capt', 'the Countess', 'Jonkheer']\n"
     ]
    }
   ],
   "source": [
    "def get_title(data_frame):\n",
    "    # Get names from data frame\n",
    "    name_data = data_frame[\"Name\"]\n",
    "    \n",
    "    # Obtain titles\n",
    "    data_frame[\"Title\"] = [name.split(\", \", 1)[1].split(\".\", 1)[0] for name in name_data]\n",
    "    \n",
    "    # Find all titles\n",
    "    titles = []\n",
    "    for title in data_frame[\"Title\"]:\n",
    "        if title not in titles:\n",
    "            titles.append(title)        \n",
    "    \n",
    "    return data_frame, titles\n",
    "\n",
    "train, titles = get_title(train)\n",
    "print(titles)\n"
   ]
  },
  {
   "cell_type": "code",
   "execution_count": 3,
   "metadata": {},
   "outputs": [],
   "source": [
    "def title2int(data):\n",
    "    data[\"Title\"].replace([\"Major\", \"Capt\", \"Sir\", \"Dr\", \"Don\", \"Mlle\", \"Mme\", \"Ms\", \"Dona\", \"Lady\", \"the Countess\", \"Jonkheer\", \"Col\", \"Rev\"],\n",
    "                           [\"Mr\", \"Mr\", \"Mr\", \"Mr\", \"Mr\", \"Miss\", \"Miss\", \"Miss\", \"Mrs\", \"Mrs\", \"Mrs\", \"Other\", \"Other\", \"Other\"], inplace = True)\n",
    "    data[\"Title\"].replace([\"Mr\", \"Miss\", \"Mrs\", \"Master\", \"Other\"], [0, 1, 2, 3, 4], inplace = True)\n",
    "    return data\n",
    "\n",
    "train = title2int(train)"
   ]
  },
  {
   "cell_type": "code",
   "execution_count": 4,
   "metadata": {},
   "outputs": [],
   "source": [
    "def faregroup(data):\n",
    "    data[\"Fare_group\"]=\"NaN\"\n",
    "    data.loc[data[\"Fare\"]<65,\"Fare_group\"]=2\n",
    "    data.loc[data[\"Fare\"]>=65,\"Fare_group\"]=1    \n",
    "    return data\n",
    "\n",
    "train=faregroup(train)"
   ]
  },
  {
   "cell_type": "code",
   "execution_count": 5,
   "metadata": {},
   "outputs": [],
   "source": [
    "train[\"Embarked\"].replace([\"S\", \"Q\", \"C\"], [1, 2, 3], inplace = True)"
   ]
  },
  {
   "cell_type": "code",
   "execution_count": 6,
   "metadata": {},
   "outputs": [],
   "source": [
    "def Cabin_type(data):\n",
    "    data.loc[data[\"Cabin\"].notnull(), \"Cabin\"] = \"Known\"\n",
    "    data.loc[data[\"Cabin\"].isnull(), \"Cabin\"] = \"Unknown\"\n",
    "    return data\n",
    "\n",
    "train = Cabin_type(train)"
   ]
  },
  {
   "cell_type": "code",
   "execution_count": 7,
   "metadata": {},
   "outputs": [],
   "source": [
    "def cab2int(data):\n",
    "    data.loc[data[\"Cabin\"] == \"Known\", 'Cabin'] = 2\n",
    "    data.loc[data[\"Cabin\"] == \"Unknown\", 'Cabin'] = 1\n",
    "    return data\n",
    "\n",
    "train = cab2int(train)"
   ]
  },
  {
   "cell_type": "code",
   "execution_count": 8,
   "metadata": {},
   "outputs": [],
   "source": [
    "train[\"Sex\"].replace([\"male\",\"female\"],[1,2],inplace=True)"
   ]
  },
  {
   "cell_type": "markdown",
   "metadata": {},
   "source": [
    "There are missing ages in the csv, which we need to calculate."
   ]
  },
  {
   "cell_type": "code",
   "execution_count": 9,
   "metadata": {},
   "outputs": [
    {
     "name": "stderr",
     "output_type": "stream",
     "text": [
      "/home/rahul/anaconda2/lib/python2.7/site-packages/sklearn/ensemble/weight_boosting.py:29: DeprecationWarning: numpy.core.umath_tests is an internal NumPy module and should not be imported. It will be removed in a future NumPy release.\n",
      "  from numpy.core.umath_tests import inner1d\n",
      "/home/rahul/anaconda2/lib/python2.7/site-packages/ipykernel_launcher.py:5: FutureWarning: Method .as_matrix will be removed in a future version. Use .values instead.\n",
      "  \"\"\"\n",
      "/home/rahul/anaconda2/lib/python2.7/site-packages/ipykernel_launcher.py:6: FutureWarning: Method .as_matrix will be removed in a future version. Use .values instead.\n",
      "  \n"
     ]
    }
   ],
   "source": [
    "from sklearn.ensemble import RandomForestRegressor\n",
    "\n",
    "def assign_missing_ages(data_frame, features):\n",
    "    age_data = data_frame[features]\n",
    "    known_ages = age_data[age_data.Age.notnull()].as_matrix()\n",
    "    unknown_ages = age_data[age_data.Age.isnull()].as_matrix()\n",
    "    \n",
    "    # Create target and eigenvalues for known ages\n",
    "    target = known_ages[:, 0]\n",
    "    eigen_val = known_ages[:, 1:]\n",
    "    \n",
    "    # apply random forest regressor\n",
    "    rfr = RandomForestRegressor(random_state = 0, n_estimators = 2000, n_jobs = -1)\n",
    "    rfr.fit(eigen_val, target)\n",
    "    \n",
    "    # predictions\n",
    "    Age_predictions = rfr.predict(unknown_ages[:, 1::])\n",
    "    data_frame.loc[(data_frame.Age.isnull()), \"Age\"] = Age_predictions\n",
    "    \n",
    "    return data_frame, rfr\n",
    "\n",
    "age_features = [\"Age\", \"Sex\", \"SibSp\", \"Parch\", \"Pclass\"]\n",
    "train, rfr = assign_missing_ages(train, age_features)\n",
    "train[\"Age\"] = train[\"Age\"].astype(int) #convert complex numbers to integers"
   ]
  },
  {
   "cell_type": "markdown",
   "metadata": {},
   "source": [
    "New feature - age groups"
   ]
  },
  {
   "cell_type": "code",
   "execution_count": 10,
   "metadata": {},
   "outputs": [],
   "source": [
    "def agegroup(data):\n",
    "    data[\"Age_group\"]=\"NaN\"\n",
    "    data.loc[data[\"Age\"]<10,\"Age_group\"]=1 #young kids\n",
    "    data.loc[(data[\"Age\"]>=13)&(data[\"Age\"]<20),\"Age_group\"]=2 #teens and young adults\n",
    "    data.loc[(data[\"Age\"]>=20)&(data[\"Age\"]<32),\"Age_group\"]=3 #adults\n",
    "    data.loc[(data[\"Age\"]>=32)&(data[\"Age\"]<48),\"Age_group\"]=4 #middle aged\n",
    "    data.loc[(data[\"Age\"]>=48)&(data[\"Age\"]<65),\"Age_group\"]=5 #initial elderly\n",
    "    data.loc[(data[\"Age\"]>=65),\"Age_group\"]=6 #elderly\n",
    "    return data\n",
    "\n",
    "train=agegroup(train)   "
   ]
  },
  {
   "cell_type": "markdown",
   "metadata": {},
   "source": [
    "new feature - Group them as being child or non child."
   ]
  },
  {
   "cell_type": "code",
   "execution_count": 11,
   "metadata": {},
   "outputs": [],
   "source": [
    "def childgroup(data):\n",
    "    data[\"Child\"] = \"NaN\"\n",
    "    data.loc[data[\"Age\"] <= 18, \"Child\"] = 0 # Child\n",
    "    data.loc[data[\"Age\"] > 18, \"Child\"] = 1 # Adult\n",
    "    return data\n",
    "\n",
    "train = childgroup(train)"
   ]
  },
  {
   "cell_type": "markdown",
   "metadata": {},
   "source": [
    "New feature representing family size, where Parch is the number of parents and children aboard titanic, and SibSp is the number of siblings and spouses aboard."
   ]
  },
  {
   "cell_type": "code",
   "execution_count": 12,
   "metadata": {},
   "outputs": [],
   "source": [
    "train[\"FamSize\"] = train[\"SibSp\"] + train[\"Parch\"] + 1"
   ]
  },
  {
   "cell_type": "markdown",
   "metadata": {},
   "source": [
    "New feature - Group them as having family, and no family."
   ]
  },
  {
   "cell_type": "code",
   "execution_count": 13,
   "metadata": {},
   "outputs": [],
   "source": [
    "def family(data):\n",
    "    data[\"Fam_group\"] = \"NaN\"\n",
    "    data.loc[data[\"FamSize\"] == 1, \"Fam_group\"] = 0 # Single\n",
    "    data.loc[data[\"FamSize\"] > 1, \"Fam_group\"] = 1 # Family\n",
    "    return data\n",
    "\n",
    "train = family(train)"
   ]
  },
  {
   "cell_type": "code",
   "execution_count": 14,
   "metadata": {},
   "outputs": [],
   "source": [
    "train_one = train[:]"
   ]
  },
  {
   "cell_type": "markdown",
   "metadata": {},
   "source": [
    "Make a new dataframe with all new features"
   ]
  },
  {
   "cell_type": "code",
   "execution_count": 15,
   "metadata": {},
   "outputs": [
    {
     "data": {
      "text/html": [
       "<div>\n",
       "<style scoped>\n",
       "    .dataframe tbody tr th:only-of-type {\n",
       "        vertical-align: middle;\n",
       "    }\n",
       "\n",
       "    .dataframe tbody tr th {\n",
       "        vertical-align: top;\n",
       "    }\n",
       "\n",
       "    .dataframe thead th {\n",
       "        text-align: right;\n",
       "    }\n",
       "</style>\n",
       "<table border=\"1\" class=\"dataframe\">\n",
       "  <thead>\n",
       "    <tr style=\"text-align: right;\">\n",
       "      <th></th>\n",
       "      <th>PassengerId</th>\n",
       "      <th>Survived</th>\n",
       "      <th>Pclass</th>\n",
       "      <th>Title</th>\n",
       "      <th>Sex</th>\n",
       "      <th>Child</th>\n",
       "      <th>Fam_group</th>\n",
       "      <th>Fare</th>\n",
       "      <th>Cabin</th>\n",
       "      <th>Embarked</th>\n",
       "    </tr>\n",
       "  </thead>\n",
       "  <tbody>\n",
       "    <tr>\n",
       "      <th>0</th>\n",
       "      <td>1</td>\n",
       "      <td>0</td>\n",
       "      <td>3</td>\n",
       "      <td>0</td>\n",
       "      <td>1</td>\n",
       "      <td>1</td>\n",
       "      <td>1</td>\n",
       "      <td>7.2500</td>\n",
       "      <td>1</td>\n",
       "      <td>1</td>\n",
       "    </tr>\n",
       "    <tr>\n",
       "      <th>1</th>\n",
       "      <td>2</td>\n",
       "      <td>1</td>\n",
       "      <td>1</td>\n",
       "      <td>2</td>\n",
       "      <td>2</td>\n",
       "      <td>1</td>\n",
       "      <td>1</td>\n",
       "      <td>71.2833</td>\n",
       "      <td>2</td>\n",
       "      <td>3</td>\n",
       "    </tr>\n",
       "    <tr>\n",
       "      <th>2</th>\n",
       "      <td>3</td>\n",
       "      <td>1</td>\n",
       "      <td>3</td>\n",
       "      <td>1</td>\n",
       "      <td>2</td>\n",
       "      <td>1</td>\n",
       "      <td>0</td>\n",
       "      <td>7.9250</td>\n",
       "      <td>1</td>\n",
       "      <td>1</td>\n",
       "    </tr>\n",
       "    <tr>\n",
       "      <th>3</th>\n",
       "      <td>4</td>\n",
       "      <td>1</td>\n",
       "      <td>1</td>\n",
       "      <td>2</td>\n",
       "      <td>2</td>\n",
       "      <td>1</td>\n",
       "      <td>1</td>\n",
       "      <td>53.1000</td>\n",
       "      <td>2</td>\n",
       "      <td>1</td>\n",
       "    </tr>\n",
       "    <tr>\n",
       "      <th>4</th>\n",
       "      <td>5</td>\n",
       "      <td>0</td>\n",
       "      <td>3</td>\n",
       "      <td>0</td>\n",
       "      <td>1</td>\n",
       "      <td>1</td>\n",
       "      <td>0</td>\n",
       "      <td>8.0500</td>\n",
       "      <td>1</td>\n",
       "      <td>1</td>\n",
       "    </tr>\n",
       "    <tr>\n",
       "      <th>5</th>\n",
       "      <td>6</td>\n",
       "      <td>0</td>\n",
       "      <td>3</td>\n",
       "      <td>0</td>\n",
       "      <td>1</td>\n",
       "      <td>1</td>\n",
       "      <td>0</td>\n",
       "      <td>8.4583</td>\n",
       "      <td>1</td>\n",
       "      <td>2</td>\n",
       "    </tr>\n",
       "    <tr>\n",
       "      <th>6</th>\n",
       "      <td>7</td>\n",
       "      <td>0</td>\n",
       "      <td>1</td>\n",
       "      <td>0</td>\n",
       "      <td>1</td>\n",
       "      <td>1</td>\n",
       "      <td>0</td>\n",
       "      <td>51.8625</td>\n",
       "      <td>2</td>\n",
       "      <td>1</td>\n",
       "    </tr>\n",
       "    <tr>\n",
       "      <th>7</th>\n",
       "      <td>8</td>\n",
       "      <td>0</td>\n",
       "      <td>3</td>\n",
       "      <td>3</td>\n",
       "      <td>1</td>\n",
       "      <td>0</td>\n",
       "      <td>1</td>\n",
       "      <td>21.0750</td>\n",
       "      <td>1</td>\n",
       "      <td>1</td>\n",
       "    </tr>\n",
       "    <tr>\n",
       "      <th>8</th>\n",
       "      <td>9</td>\n",
       "      <td>1</td>\n",
       "      <td>3</td>\n",
       "      <td>2</td>\n",
       "      <td>2</td>\n",
       "      <td>1</td>\n",
       "      <td>1</td>\n",
       "      <td>11.1333</td>\n",
       "      <td>1</td>\n",
       "      <td>1</td>\n",
       "    </tr>\n",
       "    <tr>\n",
       "      <th>9</th>\n",
       "      <td>10</td>\n",
       "      <td>1</td>\n",
       "      <td>2</td>\n",
       "      <td>2</td>\n",
       "      <td>2</td>\n",
       "      <td>0</td>\n",
       "      <td>1</td>\n",
       "      <td>30.0708</td>\n",
       "      <td>1</td>\n",
       "      <td>3</td>\n",
       "    </tr>\n",
       "  </tbody>\n",
       "</table>\n",
       "</div>"
      ],
      "text/plain": [
       "   PassengerId  Survived  Pclass  Title  Sex  Child  Fam_group     Fare  \\\n",
       "0            1         0       3      0    1      1          1   7.2500   \n",
       "1            2         1       1      2    2      1          1  71.2833   \n",
       "2            3         1       3      1    2      1          0   7.9250   \n",
       "3            4         1       1      2    2      1          1  53.1000   \n",
       "4            5         0       3      0    1      1          0   8.0500   \n",
       "5            6         0       3      0    1      1          0   8.4583   \n",
       "6            7         0       1      0    1      1          0  51.8625   \n",
       "7            8         0       3      3    1      0          1  21.0750   \n",
       "8            9         1       3      2    2      1          1  11.1333   \n",
       "9           10         1       2      2    2      0          1  30.0708   \n",
       "\n",
       "   Cabin  Embarked  \n",
       "0      1         1  \n",
       "1      2         3  \n",
       "2      1         1  \n",
       "3      2         1  \n",
       "4      1         1  \n",
       "5      1         2  \n",
       "6      2         1  \n",
       "7      1         1  \n",
       "8      1         1  \n",
       "9      1         3  "
      ]
     },
     "execution_count": 15,
     "metadata": {},
     "output_type": "execute_result"
    }
   ],
   "source": [
    "columns_titles = [\"PassengerId\", \"Survived\", \"Pclass\", \"Title\", \"Sex\", \"Child\", \"Fam_group\", \"Fare\", \"Cabin\", \"Embarked\"]\n",
    "train_one = train_one[columns_titles]\n",
    "train_one.head(10)"
   ]
  },
  {
   "cell_type": "markdown",
   "metadata": {},
   "source": [
    "Make the above features for the test dataset"
   ]
  },
  {
   "cell_type": "code",
   "execution_count": 16,
   "metadata": {},
   "outputs": [
    {
     "name": "stderr",
     "output_type": "stream",
     "text": [
      "/home/rahul/anaconda2/lib/python2.7/site-packages/ipykernel_launcher.py:12: FutureWarning: Method .as_matrix will be removed in a future version. Use .values instead.\n",
      "  if sys.path[0] == '':\n"
     ]
    },
    {
     "name": "stdout",
     "output_type": "stream",
     "text": [
      "<class 'pandas.core.frame.DataFrame'>\n",
      "RangeIndex: 418 entries, 0 to 417\n",
      "Data columns (total 9 columns):\n",
      "PassengerId    418 non-null int64\n",
      "Pclass         418 non-null int64\n",
      "Title          418 non-null int64\n",
      "Sex            418 non-null int64\n",
      "Child          418 non-null int64\n",
      "Fam_group      418 non-null int64\n",
      "Fare           418 non-null float64\n",
      "Cabin          418 non-null int64\n",
      "Embarked       418 non-null int64\n",
      "dtypes: float64(1), int64(8)\n",
      "memory usage: 29.5 KB\n"
     ]
    },
    {
     "data": {
      "text/html": [
       "<div>\n",
       "<style scoped>\n",
       "    .dataframe tbody tr th:only-of-type {\n",
       "        vertical-align: middle;\n",
       "    }\n",
       "\n",
       "    .dataframe tbody tr th {\n",
       "        vertical-align: top;\n",
       "    }\n",
       "\n",
       "    .dataframe thead th {\n",
       "        text-align: right;\n",
       "    }\n",
       "</style>\n",
       "<table border=\"1\" class=\"dataframe\">\n",
       "  <thead>\n",
       "    <tr style=\"text-align: right;\">\n",
       "      <th></th>\n",
       "      <th>PassengerId</th>\n",
       "      <th>Pclass</th>\n",
       "      <th>Title</th>\n",
       "      <th>Sex</th>\n",
       "      <th>Child</th>\n",
       "      <th>Fam_group</th>\n",
       "      <th>Fare</th>\n",
       "      <th>Cabin</th>\n",
       "      <th>Embarked</th>\n",
       "    </tr>\n",
       "  </thead>\n",
       "  <tbody>\n",
       "    <tr>\n",
       "      <th>0</th>\n",
       "      <td>892</td>\n",
       "      <td>3</td>\n",
       "      <td>0</td>\n",
       "      <td>1</td>\n",
       "      <td>1</td>\n",
       "      <td>0</td>\n",
       "      <td>7.8292</td>\n",
       "      <td>1</td>\n",
       "      <td>2</td>\n",
       "    </tr>\n",
       "    <tr>\n",
       "      <th>1</th>\n",
       "      <td>893</td>\n",
       "      <td>3</td>\n",
       "      <td>2</td>\n",
       "      <td>2</td>\n",
       "      <td>1</td>\n",
       "      <td>1</td>\n",
       "      <td>7.0000</td>\n",
       "      <td>1</td>\n",
       "      <td>1</td>\n",
       "    </tr>\n",
       "    <tr>\n",
       "      <th>2</th>\n",
       "      <td>894</td>\n",
       "      <td>2</td>\n",
       "      <td>0</td>\n",
       "      <td>1</td>\n",
       "      <td>1</td>\n",
       "      <td>0</td>\n",
       "      <td>9.6875</td>\n",
       "      <td>1</td>\n",
       "      <td>2</td>\n",
       "    </tr>\n",
       "    <tr>\n",
       "      <th>3</th>\n",
       "      <td>895</td>\n",
       "      <td>3</td>\n",
       "      <td>0</td>\n",
       "      <td>1</td>\n",
       "      <td>1</td>\n",
       "      <td>0</td>\n",
       "      <td>8.6625</td>\n",
       "      <td>1</td>\n",
       "      <td>1</td>\n",
       "    </tr>\n",
       "    <tr>\n",
       "      <th>4</th>\n",
       "      <td>896</td>\n",
       "      <td>3</td>\n",
       "      <td>2</td>\n",
       "      <td>2</td>\n",
       "      <td>1</td>\n",
       "      <td>1</td>\n",
       "      <td>12.2875</td>\n",
       "      <td>1</td>\n",
       "      <td>1</td>\n",
       "    </tr>\n",
       "  </tbody>\n",
       "</table>\n",
       "</div>"
      ],
      "text/plain": [
       "   PassengerId  Pclass  Title  Sex  Child  Fam_group     Fare  Cabin  Embarked\n",
       "0          892       3      0    1      1          0   7.8292      1         2\n",
       "1          893       3      2    2      1          1   7.0000      1         1\n",
       "2          894       2      0    1      1          0   9.6875      1         2\n",
       "3          895       3      0    1      1          0   8.6625      1         1\n",
       "4          896       3      2    2      1          1  12.2875      1         1"
      ]
     },
     "execution_count": 16,
     "metadata": {},
     "output_type": "execute_result"
    }
   ],
   "source": [
    "test[\"Embarked\"].replace([\"S\", \"Q\", \"C\"], [1,2,3], inplace = True)\n",
    "test[\"Fare\"] = test[\"Fare\"].fillna(test[\"Fare\"].median())\n",
    "\n",
    "test, test_titles = get_title(test)\n",
    "test = title2int(test)\n",
    "test[\"Sex\"].replace([\"male\", \"female\"], [1,2], inplace = True)\n",
    "test = Cabin_type(test)\n",
    "test = cab2int(test)\n",
    "test = faregroup(test)\n",
    "\n",
    "temp_test = test[age_features]\n",
    "test_unknown_ages = temp_test[test[\"Age\"].isnull()].as_matrix()\n",
    "test_Age_predictions = rfr.predict(test_unknown_ages[:, 1::])\n",
    "test.loc[(test[\"Age\"].isnull()), \"Age\"] = test_Age_predictions\n",
    "test[\"Age\"] = test[\"Age\"].astype(int)\n",
    "\n",
    "test = agegroup(test)\n",
    "test = childgroup(test)\n",
    "test[\"FamSize\"] = test[\"SibSp\"] + test[\"Parch\"] + 1\n",
    "test = family(test)\n",
    "\n",
    "test_one = test[:]\n",
    "test_columns_titles = [\"PassengerId\", \"Pclass\", \"Title\", \"Sex\", \"Child\", \"Fam_group\", \"Fare\", \"Cabin\", \"Embarked\"]\n",
    "test_one = test_one[test_columns_titles]\n",
    "test_one.info()\n",
    "test_one.head()"
   ]
  },
  {
   "cell_type": "markdown",
   "metadata": {},
   "source": [
    "Use three different algorithms and check their accuracies."
   ]
  },
  {
   "cell_type": "code",
   "execution_count": 17,
   "metadata": {},
   "outputs": [],
   "source": [
    "from sklearn import metrics\n",
    "from sklearn.model_selection import train_test_split\n",
    "from sklearn import tree\n",
    "from sklearn.ensemble import RandomForestClassifier\n",
    "from sklearn.ensemble import GradientBoostingClassifier\n",
    "\n",
    "def my_models(model, X_train, Y_train, X_test, Y_test):\n",
    "    my_model = model.fit(X_train, Y_train)\n",
    "    \n",
    "    print(my_model.feature_importances_)\n",
    "    print(my_model.score(X_train, Y_train))\n",
    "    \n",
    "    model_prediction = my_model.predict(X_test)\n",
    "    acc = metrics.accuracy_score(model_prediction, Y_test)\n",
    "    \n",
    "    return acc, my_model"
   ]
  },
  {
   "cell_type": "code",
   "execution_count": 18,
   "metadata": {},
   "outputs": [],
   "source": [
    "final_features = [\"Pclass\", \"Title\", \"Sex\", \"Child\", \"Fam_group\", \"Fare\", \"Cabin\", \"Embarked\"]\n",
    "final_data = train_one[[\"Survived\"] + final_features]\n",
    "training, testing = train_test_split(final_data, test_size = 0.3, random_state = 0, stratify = final_data[\"Survived\"])\n",
    "X_train = training[training.columns[1:]]\n",
    "Y_train = training[training.columns[:1]]\n",
    "X_test = testing[testing.columns[1:]]\n",
    "Y_test = testing[testing.columns[:1]]"
   ]
  },
  {
   "cell_type": "code",
   "execution_count": 19,
   "metadata": {},
   "outputs": [],
   "source": [
    "tree_model = tree.DecisionTreeClassifier(max_depth = 8, max_leaf_nodes = 7, min_samples_leaf = 10, random_state = 0)\n",
    "forest_model = RandomForestClassifier(max_depth = 8, max_leaf_nodes = 9, n_estimators = 300, random_state = 0)\n",
    "gradboost_model = GradientBoostingClassifier(learning_rate =  0.01, max_depth = 7,\n",
    "                                             max_features = 1.0, n_estimators = 200, subsample = 1.0, random_state = 0)"
   ]
  },
  {
   "cell_type": "code",
   "execution_count": 20,
   "metadata": {},
   "outputs": [
    {
     "name": "stdout",
     "output_type": "stream",
     "text": [
      "[0.17282957 0.63346797 0.027044   0.         0.         0.16665846\n",
      " 0.         0.        ]\n",
      "0.8282504012841091\n",
      "('Decision Tree Accuracy', 0.8283582089552238)\n"
     ]
    },
    {
     "name": "stderr",
     "output_type": "stream",
     "text": [
      "/home/rahul/anaconda2/lib/python2.7/site-packages/ipykernel_launcher.py:8: DataConversionWarning: A column-vector y was passed when a 1d array was expected. Please change the shape of y to (n_samples,), for example using ravel().\n",
      "  \n"
     ]
    },
    {
     "name": "stdout",
     "output_type": "stream",
     "text": [
      "[0.13131036 0.28242942 0.31809998 0.01663327 0.02454316 0.1464216\n",
      " 0.06272762 0.01783459]\n",
      "0.841091492776886\n",
      "('Random Forest Accuracy', 0.8395522388059702)\n"
     ]
    },
    {
     "name": "stderr",
     "output_type": "stream",
     "text": [
      "/home/rahul/anaconda2/lib/python2.7/site-packages/sklearn/utils/validation.py:578: DataConversionWarning: A column-vector y was passed when a 1d array was expected. Please change the shape of y to (n_samples, ), for example using ravel().\n",
      "  y = column_or_1d(y, warn=True)\n"
     ]
    },
    {
     "name": "stdout",
     "output_type": "stream",
     "text": [
      "[0.09625649 0.3958207  0.01048569 0.02133019 0.01740859 0.39603976\n",
      " 0.02670432 0.03595427]\n",
      "0.9213483146067416\n",
      "('Gradient Boosting Accuracy', 0.8208955223880597)\n"
     ]
    }
   ],
   "source": [
    "tree_acc, my_tree = my_models(tree_model, X_train, Y_train, X_test, Y_test)    \n",
    "print(\"Decision Tree Accuracy\", tree_acc)\n",
    "\n",
    "forest_acc, my_forest = my_models(forest_model, X_train, Y_train, X_test, Y_test)    \n",
    "print(\"Random Forest Accuracy\", forest_acc)\n",
    "\n",
    "gradboost_acc, my_gradboost = my_models(gradboost_model, X_train, Y_train, X_test, Y_test)    \n",
    "print(\"Gradient Boosting Accuracy\", gradboost_acc)"
   ]
  },
  {
   "cell_type": "code",
   "execution_count": null,
   "metadata": {},
   "outputs": [],
   "source": []
  }
 ],
 "metadata": {
  "kernelspec": {
   "display_name": "Python 2",
   "language": "python",
   "name": "python2"
  },
  "language_info": {
   "codemirror_mode": {
    "name": "ipython",
    "version": 2
   },
   "file_extension": ".py",
   "mimetype": "text/x-python",
   "name": "python",
   "nbconvert_exporter": "python",
   "pygments_lexer": "ipython2",
   "version": "2.7.15"
  }
 },
 "nbformat": 4,
 "nbformat_minor": 2
}
